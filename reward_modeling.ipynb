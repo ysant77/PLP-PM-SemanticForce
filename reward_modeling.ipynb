{
 "cells": [
  {
   "cell_type": "code",
   "execution_count": 1,
   "metadata": {},
   "outputs": [
    {
     "name": "stderr",
     "output_type": "stream",
     "text": [
      "/opt/conda/envs/plp_env/lib/python3.10/site-packages/tqdm/auto.py:21: TqdmWarning: IProgress not found. Please update jupyter and ipywidgets. See https://ipywidgets.readthedocs.io/en/stable/user_install.html\n",
      "  from .autonotebook import tqdm as notebook_tqdm\n"
     ]
    }
   ],
   "source": [
    "import warnings\n",
    "\n",
    "import torch\n",
    "from datasets import load_dataset\n",
    "from tqdm import tqdm\n",
    "from transformers import AutoModelForSequenceClassification, AutoTokenizer, HfArgumentParser\n",
    "from peft import LoraConfig, TaskType\n",
    "from trl import ModelConfig, RewardConfig, RewardTrainer, get_kbit_device_map, get_peft_config, get_quantization_config\n",
    "\n",
    "\n",
    "tqdm.pandas()"
   ]
  },
  {
   "cell_type": "code",
   "execution_count": null,
   "metadata": {},
   "outputs": [],
   "source": [
    "# python reward_modeling.py \\\n",
    "#     --model_name_or_path=facebook/opt-350m \\\n",
    "#     --output_dir=\"reward_modeling_anthropic_hh\" \\\n",
    "#     --per_device_train_batch_size=64 \\\n",
    "#     --num_train_epochs=1 \\\n",
    "#     --gradient_accumulation_steps=16 \\\n",
    "#     --gradient_checkpointing=True \\\n",
    "#     --learning_rate=1.41e-5 \\\n",
    "#     --report_to=\"wandb\" \\\n",
    "#     --remove_unused_columns=False \\\n",
    "#     --optim=\"adamw_torch\" \\\n",
    "#     --logging_steps=10 \\\n",
    "#     --evaluation_strategy=\"steps\" \\\n",
    "#     --max_length=512 \\"
   ]
  },
  {
   "cell_type": "code",
   "execution_count": 2,
   "metadata": {},
   "outputs": [],
   "source": [
    "model_config = ModelConfig(\n",
    "    model_name_or_path=\"facebook/opt-350m\",\n",
    "    attn_implementation=None, # or \"flash_attention_2\"\n",
    "    use_peft=True,\n",
    "    lora_task_type=TaskType.SEQ_CLS,\n",
    "\n",
    ")\n",
    "\n",
    "reward_config = RewardConfig(\n",
    "    output_dir=\"reward_modeling_anthropic_hh\",\n",
    "    per_device_train_batch_size=64,\n",
    "    num_train_epochs=1,\n",
    "    gradient_accumulation_steps=16,\n",
    "    gradient_checkpointing=True,\n",
    "    learning_rate=1.41e-5,\n",
    "    report_to=\"wandb\",\n",
    "    remove_unused_columns=False,\n",
    "    optim=\"adamw_torch\",\n",
    "    logging_steps=10,\n",
    "    evaluation_strategy=\"steps\",\n",
    "    max_length=512,\n",
    ")\n",
    "\n",
    "# peft_config = LoraConfig(\n",
    "#     task_type=TaskType.SEQ_CLS,\n",
    "#     inference_mode=False,\n",
    "#     r=8,\n",
    "#     lora_alpha=32,\n",
    "#     lora_dropout=0.1,\n",
    "# )"
   ]
  },
  {
   "cell_type": "code",
   "execution_count": 3,
   "metadata": {},
   "outputs": [],
   "source": [
    "# if __name__ == \"__main__\":\n",
    "# parser = HfArgumentParser((reward_config, model_config))\n",
    "# reward_config, model_config = parser.parse_args_into_dataclasses()\n",
    "reward_config.gradient_checkpointing_kwargs = dict(use_reentrant=False)"
   ]
  },
  {
   "cell_type": "code",
   "execution_count": 4,
   "metadata": {},
   "outputs": [
    {
     "name": "stderr",
     "output_type": "stream",
     "text": [
      "Some weights of OPTForSequenceClassification were not initialized from the model checkpoint at facebook/opt-350m and are newly initialized: ['score.weight']\n",
      "You should probably TRAIN this model on a down-stream task to be able to use it for predictions and inference.\n"
     ]
    }
   ],
   "source": [
    "################\n",
    "# Model & Tokenizer\n",
    "################\n",
    "torch_dtype = (\n",
    "    model_config.torch_dtype\n",
    "    if model_config.torch_dtype in [\"auto\", None]\n",
    "    else getattr(torch, model_config.torch_dtype)\n",
    ")\n",
    "quantization_config = get_quantization_config(model_config)\n",
    "model_kwargs = dict(\n",
    "    revision=model_config.model_revision,\n",
    "    trust_remote_code=model_config.trust_remote_code,\n",
    "    device_map=get_kbit_device_map() if quantization_config is not None else None,\n",
    "    quantization_config=quantization_config,\n",
    ")\n",
    "tokenizer = AutoTokenizer.from_pretrained(model_config.model_name_or_path, use_fast=True)\n",
    "model = AutoModelForSequenceClassification.from_pretrained(\n",
    "    model_config.model_name_or_path, num_labels=1, **model_kwargs\n",
    ")\n",
    "\n",
    "if model_config.lora_task_type != \"SEQ_CLS\":\n",
    "    warnings.warn(\n",
    "        \"You are using a `task_type` that is different than `SEQ_CLS` for PEFT. This will lead to silent bugs\"\n",
    "        \" Make sure to pass --lora_task_type SEQ_CLS when using this script.\"\n",
    "    )\n",
    "\n",
    "# optimizer1 = torch.optim.SGD(model.parameters(), lr=1.41e-5)\n",
    "# lr_scheduler1 = torch.optim.lr_scheduler.ExponentialLR(optimizer1, gamma=0.9)"
   ]
  },
  {
   "cell_type": "code",
   "execution_count": 5,
   "metadata": {},
   "outputs": [
    {
     "name": "stderr",
     "output_type": "stream",
     "text": [
      "Filter: 100%|██████████| 160800/160800 [00:59<00:00, 2718.79 examples/s]\n",
      "Filter: 100%|██████████| 8552/8552 [00:03<00:00, 2621.38 examples/s]\n"
     ]
    }
   ],
   "source": [
    "################\n",
    "# Dataset\n",
    "################\n",
    "raw_datasets = load_dataset(\"Anthropic/hh-rlhf\")\n",
    "# Tokenize chosen/rejected pairs of inputs\n",
    "# Adapt this section to your needs for custom datasets\n",
    "\n",
    "def preprocess_function(examples):\n",
    "    new_examples = {\n",
    "        \"input_ids_chosen\": [],\n",
    "        \"attention_mask_chosen\": [],\n",
    "        \"input_ids_rejected\": [],\n",
    "        \"attention_mask_rejected\": [],\n",
    "    }\n",
    "    for chosen, rejected in zip(examples[\"chosen\"], examples[\"rejected\"]):\n",
    "        tokenized_chosen = tokenizer(chosen)\n",
    "        tokenized_rejected = tokenizer(rejected)\n",
    "\n",
    "        new_examples[\"input_ids_chosen\"].append(tokenized_chosen[\"input_ids\"])\n",
    "        new_examples[\"attention_mask_chosen\"].append(tokenized_chosen[\"attention_mask\"])\n",
    "        new_examples[\"input_ids_rejected\"].append(tokenized_rejected[\"input_ids\"])\n",
    "        new_examples[\"attention_mask_rejected\"].append(tokenized_rejected[\"attention_mask\"])\n",
    "\n",
    "    return new_examples\n",
    "\n",
    "# Preprocess the dataset and filter out examples that are longer than args.max_length\n",
    "raw_datasets = raw_datasets.map(\n",
    "    preprocess_function,\n",
    "    batched=True,\n",
    "    num_proc=4,\n",
    ")\n",
    "raw_datasets = raw_datasets.filter(\n",
    "    lambda x: len(x[\"input_ids_chosen\"]) <= reward_config.max_length\n",
    "    and len(x[\"input_ids_rejected\"]) <= reward_config.max_length\n",
    ")\n",
    "train_dataset = raw_datasets[\"train\"]\n",
    "eval_dataset = raw_datasets[\"test\"]"
   ]
  },
  {
   "cell_type": "code",
   "execution_count": 1,
   "metadata": {},
   "outputs": [],
   "source": [
    "# for k,v in train_dataset[0].items():\n",
    "#     print(f'{k}:{v}')"
   ]
  },
  {
   "cell_type": "code",
   "execution_count": 2,
   "metadata": {},
   "outputs": [],
   "source": [
    "# ################\n",
    "# # Training\n",
    "# ################\n",
    "# trainer = RewardTrainer(model=model,\n",
    "#                         tokenizer=tokenizer,\n",
    "#                         args=reward_config,\n",
    "#                         train_dataset=train_dataset,\n",
    "#                         eval_dataset=eval_dataset,\n",
    "#                         peft_config=get_peft_config(model_config)\n",
    "#                         )\n",
    "# trainer.train()\n",
    "# trainer.save_model(reward_config.output_dir)"
   ]
  },
  {
   "cell_type": "code",
   "execution_count": 20,
   "metadata": {},
   "outputs": [],
   "source": [
    "# # model = AutoModelForSequenceClassification.from_pretrained(\"gpt2\")\n",
    "# peft_config = LoraConfig(\n",
    "#     task_type=TaskType.SEQ_CLS,\n",
    "#     inference_mode=False,\n",
    "#     r=8,\n",
    "#     lora_alpha=32,\n",
    "#     lora_dropout=0.1,\n",
    "# )"
   ]
  },
  {
   "cell_type": "code",
   "execution_count": 6,
   "metadata": {},
   "outputs": [],
   "source": [
    "trainer = RewardTrainer(model=model,\n",
    "                        args=reward_config,\n",
    "                        train_dataset=train_dataset,\n",
    "                        eval_dataset=eval_dataset,\n",
    "                        tokenizer=tokenizer,\n",
    "                        # model_init=,\n",
    "                        # compute_metrics=,\n",
    "                        # optimizers=(optimizer1,lr_scheduler1),\n",
    "                        # max_length=,\n",
    "                        peft_config=get_peft_config(model_config)\n",
    "                        )"
   ]
  },
  {
   "cell_type": "code",
   "execution_count": 9,
   "metadata": {},
   "outputs": [
    {
     "data": {
      "text/plain": [
       "(torch.optim.sgd.SGD, torch.optim.lr_scheduler.ExponentialLR)"
      ]
     },
     "execution_count": 9,
     "metadata": {},
     "output_type": "execute_result"
    }
   ],
   "source": [
    "# type(optimizer1), type(lr_scheduler1)"
   ]
  },
  {
   "cell_type": "code",
   "execution_count": 33,
   "metadata": {},
   "outputs": [
    {
     "name": "stderr",
     "output_type": "stream",
     "text": [
      "/opt/conda/envs/plp_rlhf_1/lib/python3.10/site-packages/transformers/optimization.py:521: FutureWarning: This implementation of AdamW is deprecated and will be removed in a future version. Use the PyTorch implementation torch.optim.AdamW instead, or set `no_deprecation_warning=True` to disable this warning\n",
      "  warnings.warn(\n"
     ]
    }
   ],
   "source": [
    "# from transformers import AdamW \n",
    "\n",
    "# optimizer = AdamW(model.parameters(), lr=1e-5)  # Example with AdamW\n",
    "\n",
    "# from transformers import get_linear_schedule_with_warmup\n",
    "\n",
    "# num_training_steps = len(train_dataset) * 1  # Calculate based on your data\n",
    "# lr_scheduler = get_linear_schedule_with_warmup(\n",
    "#     optimizer,\n",
    "#     num_warmup_steps=0.1 * num_training_steps,  # Example 10% warmup\n",
    "#     num_training_steps=num_training_steps\n",
    "# )"
   ]
  },
  {
   "cell_type": "code",
   "execution_count": 30,
   "metadata": {},
   "outputs": [],
   "source": []
  },
  {
   "cell_type": "code",
   "execution_count": 4,
   "metadata": {},
   "outputs": [],
   "source": [
    "# RewardTrainer??"
   ]
  },
  {
   "cell_type": "code",
   "execution_count": null,
   "metadata": {},
   "outputs": [],
   "source": []
  }
 ],
 "metadata": {
  "kernelspec": {
   "display_name": "plp_rlhf_1",
   "language": "python",
   "name": "python3"
  },
  "language_info": {
   "codemirror_mode": {
    "name": "ipython",
    "version": 3
   },
   "file_extension": ".py",
   "mimetype": "text/x-python",
   "name": "python",
   "nbconvert_exporter": "python",
   "pygments_lexer": "ipython3",
   "version": "3.10.13"
  }
 },
 "nbformat": 4,
 "nbformat_minor": 2
}
