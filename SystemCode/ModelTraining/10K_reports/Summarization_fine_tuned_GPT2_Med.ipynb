{
  "cells": [
    {
      "cell_type": "code",
      "execution_count": null,
      "metadata": {
        "colab": {
          "base_uri": "https://localhost:8080/"
        },
        "id": "_lQgKyFbi5Om",
        "outputId": "3d02b6f7-f3ca-49fb-b047-b45ba25c54f3"
      },
      "outputs": [
        {
          "name": "stdout",
          "output_type": "stream",
          "text": [
            "Mounted at /content/drive\n"
          ]
        }
      ],
      "source": [
        "from google.colab import drive\n",
        "drive.mount('/content/drive')"
      ]
    },
    {
      "cell_type": "code",
      "execution_count": null,
      "metadata": {
        "colab": {
          "base_uri": "https://localhost:8080/",
          "height": 113,
          "referenced_widgets": [
            "f8cb7bec16394d8f8ca041ae1f64b246",
            "8375b4ebbe3f4337b94b438f0f53538d",
            "957fc3b100194ad18c23f6398f51c4d6",
            "a7918fbe46364fd596fee31c8d00cebe",
            "877d4018c9d84c1c8b5fc9b833f483dd",
            "785ab041784c4269aecd9c790cd7c92d",
            "4184ccb6839c465c88f51dcee44265de",
            "a56a59996aa44a14bbe68a74572093b7",
            "f12a282a16e14d43b79c0fb7fb2aaf32",
            "4e038c98d0134e53bfd6388043ead2da",
            "b725b99819cc4c59ab5449135aa3ce84",
            "c9b23a5835414d78a2265cade29d4c8c",
            "259959be4ca14b67a79d6014ba089742",
            "e189db7bad29430087a0576e35ab3549",
            "7bf452b880f249ae96751e3572d24dc2",
            "0e49c8ca555d43e485ac4c329231023a",
            "256b816ed0a342b99ec3a27b48a2872c",
            "dc56bd1ca8b440b18e09df52f589b3a5",
            "fb67b3f46ecf4e6d8b70835cc4ab4bc8",
            "896aa2fa154e46b3b9b60755fdd36508",
            "27ad3a20b2ec44178ccc08ec6a33fe1a",
            "6d1681a4484f481db7b67c9c66cc22d3",
            "07c33dc21ace42c7ab63c4a0820ff742",
            "3d00d2f466264bb0ab2d2cf0b6691ed8",
            "a46dddbb62554f3d98a53721569b019f",
            "d58b68de6c544f8babda263c121bf36f",
            "d66d8dc30bf845f6901354733f6e5bb1",
            "838c4a49dc524d59a0755e458a1bb138",
            "e8d1fb6085174f2b98a6680dd7aff7a6",
            "b5e6c18bb9b7427e85d257f2cf93dea9",
            "6037f98f33384805a2f45876ab0547bd",
            "e0a145043b8a4236b19b220cd9d8e379",
            "b6bc273143aa4b2f82ad889f20b6ce84"
          ]
        },
        "id": "dEkENGIVi5On",
        "outputId": "5cb7fc99-d4ae-44a7-c417-a29b6ae6c698"
      },
      "outputs": [
        {
          "data": {
            "application/vnd.jupyter.widget-view+json": {
              "model_id": "f8cb7bec16394d8f8ca041ae1f64b246",
              "version_major": 2,
              "version_minor": 0
            },
            "text/plain": [
              "config.json:   0%|          | 0.00/718 [00:00<?, ?B/s]"
            ]
          },
          "metadata": {},
          "output_type": "display_data"
        },
        {
          "data": {
            "application/vnd.jupyter.widget-view+json": {
              "model_id": "c9b23a5835414d78a2265cade29d4c8c",
              "version_major": 2,
              "version_minor": 0
            },
            "text/plain": [
              "model.safetensors:   0%|          | 0.00/1.52G [00:00<?, ?B/s]"
            ]
          },
          "metadata": {},
          "output_type": "display_data"
        },
        {
          "data": {
            "application/vnd.jupyter.widget-view+json": {
              "model_id": "07c33dc21ace42c7ab63c4a0820ff742",
              "version_major": 2,
              "version_minor": 0
            },
            "text/plain": [
              "generation_config.json:   0%|          | 0.00/124 [00:00<?, ?B/s]"
            ]
          },
          "metadata": {},
          "output_type": "display_data"
        }
      ],
      "source": [
        "import os\n",
        "import pandas as pd\n",
        "import torch\n",
        "from torch.utils.data import Dataset, DataLoader\n",
        "from torch.nn.utils.rnn import pad_sequence\n",
        "from sklearn.model_selection import train_test_split\n",
        "from transformers import GPT2LMHeadModel, GPT2Tokenizer\n",
        "\n",
        "# Tokenizer\n",
        "tokenizer = GPT2Tokenizer.from_pretrained(\"gpt2\")\n",
        "# Add padding token\n",
        "tokenizer.pad_token = tokenizer.eos_token  # You can use the end-of-sequence token as the padding token\n",
        "# # Define the maximum input token limit\n",
        "# GPT2_INPUT_TOKEN_LIMIT = 12288  # Adjust as needed\n",
        "\n",
        "# Load and preprocess data\n",
        "# json_directory = \"/content/drive/MyDrive/PLP Project/updated/focus\"\n",
        "json_directory = \"/content/drive/MyDrive/focus\"\n",
        "\n",
        "dfs = [pd.read_json(os.path.join(json_directory, file), encoding='latin-1').dropna(subset=['Gemini Summary']).iloc[:, 1:3] for file in os.listdir(json_directory) if os.path.isfile(os.path.join(json_directory, file))]\n",
        "consolidated_df = pd.concat(dfs, ignore_index=True)\n",
        "\n",
        "# Rename columns\n",
        "consolidated_df = consolidated_df.rename(columns={'Gemini Summary': 'text', 'Section Text': 'ctext'})\n",
        "\n",
        "# Add prefix to source text\n",
        "consolidated_df.ctext = 'summarize: ' + consolidated_df.ctext\n",
        "\n",
        "# Split data into train and validation sets\n",
        "train_data, val_data = train_test_split(consolidated_df, train_size=0.8, random_state=42)\n",
        "\n",
        "# # Calculate the maximum length of target summaries\n",
        "# max_target_length = max(len(summary) for summary in consolidated_df['text'])\n",
        "\n",
        "# # Set max_length slightly higher than the maximum target summary length\n",
        "# max_length = max_target_length + 50  # Adjust the additional length as needed\n",
        "\n",
        "\n",
        "# Define dataset class\n",
        "# Define dataset class\n",
        "class CustomDataset(Dataset):\n",
        "    def __init__(self, data, tokenizer, max_length):\n",
        "        self.data = data\n",
        "        self.tokenizer = tokenizer\n",
        "        self.max_length = max_length\n",
        "\n",
        "    def __len__(self):\n",
        "        return len(self.data)\n",
        "\n",
        "    def __getitem__(self, idx):\n",
        "        input_text = self.data.iloc[idx]['ctext']\n",
        "        target_text = self.data.iloc[idx]['text']\n",
        "\n",
        "        input_encoding = self.tokenizer(input_text, max_length=self.max_length, padding=\"max_length\", truncation=True, return_tensors=\"pt\")\n",
        "        target_encoding = self.tokenizer(target_text, max_length=self.max_length, padding=\"max_length\", truncation=True, return_tensors=\"pt\")\n",
        "\n",
        "        return {\n",
        "            \"input_ids\": input_encoding[\"input_ids\"].squeeze(),\n",
        "            \"attention_mask\": input_encoding[\"attention_mask\"].squeeze(),\n",
        "            \"labels\": target_encoding[\"input_ids\"].squeeze()\n",
        "        }\n",
        "\n",
        "# Create datasets and dataloaders\n",
        "train_dataset = CustomDataset(train_data, tokenizer, max_length=512)\n",
        "val_dataset = CustomDataset(val_data, tokenizer, max_length=512)\n",
        "\n",
        "train_loader = DataLoader(train_dataset, batch_size=2, shuffle=True)\n",
        "val_loader = DataLoader(val_dataset, batch_size=2, shuffle=False)\n",
        "\n",
        "# Fine-tune the model\n",
        "# model = GPT2LMHeadModel.from_pretrained(\"gpt2\")\n",
        "model = GPT2LMHeadModel.from_pretrained(\"gpt2-medium\")  # Load GPT-2 Medium instead of base GPT-2\n",
        "\n",
        "# Model configuration for sequence-to-sequence task\n",
        "model.resize_token_embeddings(len(tokenizer))\n",
        "\n",
        "# Define optimizer and loss function\n",
        "optimizer = torch.optim.AdamW(model.parameters(), lr=1e-4)\n",
        "loss_fn = torch.nn.CrossEntropyLoss()\n"
      ]
    },
    {
      "cell_type": "code",
      "execution_count": null,
      "metadata": {
        "colab": {
          "base_uri": "https://localhost:8080/"
        },
        "id": "V-8xQz8Oi5On",
        "outputId": "b5083bd8-ce08-4078-c844-e297dd9bbf2e"
      },
      "outputs": [
        {
          "name": "stdout",
          "output_type": "stream",
          "text": [
            "Using device: cuda\n"
          ]
        }
      ],
      "source": [
        "# Check if GPU is available and set the device accordingly\n",
        "device = torch.device(\"cuda\" if torch.cuda.is_available() else \"cpu\")\n",
        "\n",
        "# Move model to the selected device\n",
        "model.to(device)\n",
        "\n",
        "# Print the device\n",
        "print(f\"Using device: {device}\")\n"
      ]
    },
    {
      "cell_type": "markdown",
      "metadata": {
        "id": "zQAIGwv8i5Oo"
      },
      "source": [
        "### Incorporate ROUGE Scores generation during epoch training"
      ]
    },
    {
      "cell_type": "code",
      "execution_count": null,
      "metadata": {
        "colab": {
          "base_uri": "https://localhost:8080/"
        },
        "id": "3U-NAhrFi5Oo",
        "outputId": "1eb252bb-d125-406d-d4ab-5dc90eaff18f"
      },
      "outputs": [
        {
          "name": "stdout",
          "output_type": "stream",
          "text": [
            "Collecting rouge-score\n",
            "  Downloading rouge_score-0.1.2.tar.gz (17 kB)\n",
            "  Preparing metadata (setup.py) ... \u001b[?25l\u001b[?25hdone\n",
            "Requirement already satisfied: absl-py in /usr/local/lib/python3.10/dist-packages (from rouge-score) (1.4.0)\n",
            "Requirement already satisfied: nltk in /usr/local/lib/python3.10/dist-packages (from rouge-score) (3.8.1)\n",
            "Requirement already satisfied: numpy in /usr/local/lib/python3.10/dist-packages (from rouge-score) (1.25.2)\n",
            "Requirement already satisfied: six>=1.14.0 in /usr/local/lib/python3.10/dist-packages (from rouge-score) (1.16.0)\n",
            "Requirement already satisfied: click in /usr/local/lib/python3.10/dist-packages (from nltk->rouge-score) (8.1.7)\n",
            "Requirement already satisfied: joblib in /usr/local/lib/python3.10/dist-packages (from nltk->rouge-score) (1.4.0)\n",
            "Requirement already satisfied: regex>=2021.8.3 in /usr/local/lib/python3.10/dist-packages (from nltk->rouge-score) (2023.12.25)\n",
            "Requirement already satisfied: tqdm in /usr/local/lib/python3.10/dist-packages (from nltk->rouge-score) (4.66.2)\n",
            "Building wheels for collected packages: rouge-score\n",
            "  Building wheel for rouge-score (setup.py) ... \u001b[?25l\u001b[?25hdone\n",
            "  Created wheel for rouge-score: filename=rouge_score-0.1.2-py3-none-any.whl size=24933 sha256=61264377570bafeb0a7f99953924725477b39af6ecab3a0934e580bce0339fb1\n",
            "  Stored in directory: /root/.cache/pip/wheels/5f/dd/89/461065a73be61a532ff8599a28e9beef17985c9e9c31e541b4\n",
            "Successfully built rouge-score\n",
            "Installing collected packages: rouge-score\n",
            "Successfully installed rouge-score-0.1.2\n"
          ]
        }
      ],
      "source": [
        "# Installing packages\n",
        "!pip install rouge-score\n",
        "\n",
        "import datetime\n",
        "from openpyxl import Workbook, load_workbook\n",
        "\n",
        "\n",
        "# Preprocessing summaries before comparison\n",
        "def rouge_preprocessing (summary_text):\n",
        "    # Convert to lowercase\n",
        "    summary_text_lower = summary_text.lower()\n",
        "    # Remove punctuation\n",
        "    summary_text_no_punctuation = re.sub(r'[^\\w\\s]', '', summary_text_lower)\n",
        "    # Tokenize the text\n",
        "    summary_text_tokens = word_tokenize(summary_text_no_punctuation)\n",
        "\n",
        "    # Remove stopwords\n",
        "    stop_words = set(stopwords.words('english'))\n",
        "    summary_text_filtered = [word for word in summary_text_tokens if word not in stop_words]\n",
        "\n",
        "    # Optionally perform stemming or lemmatization\n",
        "\n",
        "    # Join the tokens back into a string\n",
        "    summary_text_processed = ' '.join(summary_text_filtered)\n",
        "\n",
        "    return summary_text_processed\n",
        "\n",
        "# Generate rouge scores from summaries\n",
        "from rouge_score import rouge_scorer\n",
        "\n",
        "def generate_rouge_scores (reference_summary, candidate_summary):\n",
        "    # Initialize Rouge scorer\n",
        "    scorer = rouge_scorer.RougeScorer(['rouge1', 'rouge2', 'rougeL'], use_stemmer=True)\n",
        "\n",
        "    # Compute Rouge scores\n",
        "    scores = scorer.score(candidate_summary, reference_summary)\n",
        "\n",
        "    # Unpack scores dictionary and return individual metrics\n",
        "    rouge1_precision = scores['rouge1'].precision\n",
        "    rouge1_recall = scores['rouge1'].recall\n",
        "    rouge1_fmeasure = scores['rouge1'].fmeasure\n",
        "\n",
        "    rouge2_precision = scores['rouge2'].precision\n",
        "    rouge2_recall = scores['rouge2'].recall\n",
        "    rouge2_fmeasure = scores['rouge2'].fmeasure\n",
        "\n",
        "    rougeL_precision = scores['rougeL'].precision\n",
        "    rougeL_recall = scores['rougeL'].recall\n",
        "    rougeL_fmeasure = scores['rougeL'].fmeasure\n",
        "\n",
        "    return rouge1_precision, rouge1_recall, rouge1_fmeasure, \\\n",
        "           rouge2_precision, rouge2_recall, rouge2_fmeasure, \\\n",
        "           rougeL_precision, rougeL_recall, rougeL_fmeasure\n",
        "\n",
        "# Export ROUGE Scores to Excel\n",
        "# Function to create or load workbook and add data\n",
        "def update_rouge_excel(output_directory, rouge_scores_list):\n",
        "    # Create directory if it doesn't exist\n",
        "    os.makedirs(os.path.dirname(output_directory), exist_ok=True)\n",
        "\n",
        "    # Define file path\n",
        "    file_path = f\"{output_directory}.xlsx\"\n",
        "\n",
        "    try:\n",
        "        # Load existing workbook\n",
        "        workbook = load_workbook(file_path)\n",
        "        worksheet = workbook.active\n",
        "    except FileNotFoundError:\n",
        "        # If workbook doesn't exist, create a new one\n",
        "        workbook = Workbook()\n",
        "        worksheet = workbook.active\n",
        "        # Add headers to the first row\n",
        "        header = [\"rouge1_precision\", \"rouge1_recall\", \"rouge1_fmeasure\", \"rouge2_precision\",\n",
        "                  \"rouge2_recall\", \"rouge2_fmeasure\", \"rougeL_precision\", \"rougeL_recall\", \"rougeL_fmeasure\", \"rougeL_sum\"\n",
        "                 ]\n",
        "        worksheet.append(header)\n",
        "\n",
        "    for rouge_scores in rouge_scores_list:\n",
        "        # Calculate Rouge-L sum score\n",
        "        rougeL_sum = rouge_scores[6] + rouge_scores[7] + rouge_scores[8]  # Sum of Rouge-L precision, recall, and F-measure\n",
        "        worksheet.append(rouge_scores + (rougeL_sum,))\n",
        "    workbook.save(file_path)\n"
      ]
    },
    {
      "cell_type": "code",
      "execution_count": null,
      "metadata": {
        "id": "ird80C4Fi5Oo"
      },
      "outputs": [],
      "source": [
        "# Specify the path to the JSON folder\n",
        "# json_directory = \"/content/drive/MyDrive/PLP Project/updated/focus/model_1\"\n",
        "json_directory = \"/content/drive/MyDrive/focus/model_2\"\n",
        "\n",
        "# Create excel file named GPT2_finetuned_rouge_score if it does not exist\n",
        "# Headers to consist of file_name, item_number, 9 rouge scores values from generate_rouge_scores function\n",
        "output_file_name = 'GPT2_finetuned_rouge_score'\n",
        "output_directory = os.path.join(json_directory, output_file_name)\n"
      ]
    },
    {
      "cell_type": "code",
      "execution_count": null,
      "metadata": {
        "colab": {
          "base_uri": "https://localhost:8080/",
          "height": 799
        },
        "id": "SRm6HcuHi5Oo",
        "outputId": "d1255942-a394-430b-fd5a-7bdc2427777a"
      },
      "outputs": [
        {
          "name": "stderr",
          "output_type": "stream",
          "text": [
            "[nltk_data] Downloading package punkt to /root/nltk_data...\n",
            "[nltk_data]   Unzipping tokenizers/punkt.zip.\n",
            "[nltk_data] Downloading package stopwords to /root/nltk_data...\n",
            "[nltk_data]   Unzipping corpora/stopwords.zip.\n",
            "Epoch 1: 100%|██████████| 516/516 [08:43<00:00,  1.01s/it, loss=4.04]\n"
          ]
        },
        {
          "name": "stdout",
          "output_type": "stream",
          "text": [
            "Epoch 1, Average Train Loss: 3.1153, Average Val Loss: 2.9695\n"
          ]
        },
        {
          "name": "stderr",
          "output_type": "stream",
          "text": [
            "Epoch 2: 100%|██████████| 516/516 [08:35<00:00,  1.00it/s, loss=1.36]\n"
          ]
        },
        {
          "name": "stdout",
          "output_type": "stream",
          "text": [
            "Epoch 2, Average Train Loss: 2.8220, Average Val Loss: 2.7538\n"
          ]
        },
        {
          "name": "stderr",
          "output_type": "stream",
          "text": [
            "Epoch 3: 100%|██████████| 516/516 [08:36<00:00,  1.00s/it, loss=0.738]\n"
          ]
        },
        {
          "name": "stdout",
          "output_type": "stream",
          "text": [
            "Epoch 3, Average Train Loss: 2.7162, Average Val Loss: 2.6876\n"
          ]
        },
        {
          "name": "stderr",
          "output_type": "stream",
          "text": [
            "Epoch 4: 100%|██████████| 516/516 [08:37<00:00,  1.00s/it, loss=6.23]\n"
          ]
        },
        {
          "name": "stdout",
          "output_type": "stream",
          "text": [
            "Epoch 4, Average Train Loss: 2.6386, Average Val Loss: 2.6920\n"
          ]
        },
        {
          "name": "stderr",
          "output_type": "stream",
          "text": [
            "Epoch 5: 100%|██████████| 516/516 [08:37<00:00,  1.00s/it, loss=0.732]\n"
          ]
        },
        {
          "name": "stdout",
          "output_type": "stream",
          "text": [
            "Epoch 5, Average Train Loss: 2.5601, Average Val Loss: 2.7023\n"
          ]
        },
        {
          "name": "stderr",
          "output_type": "stream",
          "text": [
            "Epoch 6: 100%|██████████| 516/516 [08:37<00:00,  1.00s/it, loss=1.28]\n"
          ]
        },
        {
          "name": "stdout",
          "output_type": "stream",
          "text": [
            "Epoch 6, Average Train Loss: 2.4808, Average Val Loss: 2.7335\n"
          ]
        },
        {
          "name": "stderr",
          "output_type": "stream",
          "text": [
            "Epoch 7: 100%|██████████| 516/516 [08:38<00:00,  1.01s/it, loss=2.86]\n"
          ]
        },
        {
          "name": "stdout",
          "output_type": "stream",
          "text": [
            "Epoch 7, Average Train Loss: 2.3904, Average Val Loss: 2.7273\n"
          ]
        },
        {
          "name": "stderr",
          "output_type": "stream",
          "text": [
            "Epoch 8: 100%|██████████| 516/516 [08:40<00:00,  1.01s/it, loss=1.23]\n"
          ]
        },
        {
          "name": "stdout",
          "output_type": "stream",
          "text": [
            "Epoch 8, Average Train Loss: 2.2875, Average Val Loss: 2.7955\n"
          ]
        },
        {
          "name": "stderr",
          "output_type": "stream",
          "text": [
            "Epoch 9: 100%|██████████| 516/516 [08:40<00:00,  1.01s/it, loss=2.95]\n"
          ]
        },
        {
          "name": "stdout",
          "output_type": "stream",
          "text": [
            "Epoch 9, Average Train Loss: 2.1557, Average Val Loss: 2.8628\n"
          ]
        },
        {
          "name": "stderr",
          "output_type": "stream",
          "text": [
            "Epoch 10: 100%|██████████| 516/516 [08:41<00:00,  1.01s/it, loss=5.23]\n"
          ]
        },
        {
          "name": "stdout",
          "output_type": "stream",
          "text": [
            "Epoch 10, Average Train Loss: 2.0072, Average Val Loss: 2.9980\n"
          ]
        },
        {
          "ename": "ValueError",
          "evalue": "Length of values (12910) does not match length of index (1291)",
          "output_type": "error",
          "traceback": [
            "\u001b[0;31m---------------------------------------------------------------------------\u001b[0m",
            "\u001b[0;31mValueError\u001b[0m                                Traceback (most recent call last)",
            "\u001b[0;32m<ipython-input-9-0be3a2ff8990>\u001b[0m in \u001b[0;36m<cell line: 82>\u001b[0;34m()\u001b[0m\n\u001b[1;32m     80\u001b[0m \u001b[0;31m# Save consolidated_df to a JSON file\u001b[0m\u001b[0;34m\u001b[0m\u001b[0;34m\u001b[0m\u001b[0m\n\u001b[1;32m     81\u001b[0m \u001b[0;31m# Save consolidated_df to a JSON file\u001b[0m\u001b[0;34m\u001b[0m\u001b[0;34m\u001b[0m\u001b[0m\n\u001b[0;32m---> 82\u001b[0;31m \u001b[0mconsolidated_df\u001b[0m\u001b[0;34m[\u001b[0m\u001b[0;34m\"generated_output\"\u001b[0m\u001b[0;34m]\u001b[0m \u001b[0;34m=\u001b[0m \u001b[0mgenerated_outputs_train\u001b[0m \u001b[0;34m+\u001b[0m \u001b[0mgenerated_outputs_val\u001b[0m  \u001b[0;31m# Combine train and validation generated outputs\u001b[0m\u001b[0;34m\u001b[0m\u001b[0;34m\u001b[0m\u001b[0m\n\u001b[0m\u001b[1;32m     83\u001b[0m \u001b[0mconsolidated_df\u001b[0m\u001b[0;34m.\u001b[0m\u001b[0mto_json\u001b[0m\u001b[0;34m(\u001b[0m\u001b[0;34m\"output_with_generated.json\"\u001b[0m\u001b[0;34m,\u001b[0m \u001b[0morient\u001b[0m\u001b[0;34m=\u001b[0m\u001b[0;34m\"records\"\u001b[0m\u001b[0;34m,\u001b[0m \u001b[0mlines\u001b[0m\u001b[0;34m=\u001b[0m\u001b[0;32mTrue\u001b[0m\u001b[0;34m)\u001b[0m  \u001b[0;31m# Save the DataFrame to JSON\u001b[0m\u001b[0;34m\u001b[0m\u001b[0;34m\u001b[0m\u001b[0m\n",
            "\u001b[0;32m/usr/local/lib/python3.10/dist-packages/pandas/core/frame.py\u001b[0m in \u001b[0;36m__setitem__\u001b[0;34m(self, key, value)\u001b[0m\n\u001b[1;32m   3948\u001b[0m         \u001b[0;32melse\u001b[0m\u001b[0;34m:\u001b[0m\u001b[0;34m\u001b[0m\u001b[0;34m\u001b[0m\u001b[0m\n\u001b[1;32m   3949\u001b[0m             \u001b[0;31m# set column\u001b[0m\u001b[0;34m\u001b[0m\u001b[0;34m\u001b[0m\u001b[0m\n\u001b[0;32m-> 3950\u001b[0;31m             \u001b[0mself\u001b[0m\u001b[0;34m.\u001b[0m\u001b[0m_set_item\u001b[0m\u001b[0;34m(\u001b[0m\u001b[0mkey\u001b[0m\u001b[0;34m,\u001b[0m \u001b[0mvalue\u001b[0m\u001b[0;34m)\u001b[0m\u001b[0;34m\u001b[0m\u001b[0;34m\u001b[0m\u001b[0m\n\u001b[0m\u001b[1;32m   3951\u001b[0m \u001b[0;34m\u001b[0m\u001b[0m\n\u001b[1;32m   3952\u001b[0m     \u001b[0;32mdef\u001b[0m \u001b[0m_setitem_slice\u001b[0m\u001b[0;34m(\u001b[0m\u001b[0mself\u001b[0m\u001b[0;34m,\u001b[0m \u001b[0mkey\u001b[0m\u001b[0;34m:\u001b[0m \u001b[0mslice\u001b[0m\u001b[0;34m,\u001b[0m \u001b[0mvalue\u001b[0m\u001b[0;34m)\u001b[0m \u001b[0;34m->\u001b[0m \u001b[0;32mNone\u001b[0m\u001b[0;34m:\u001b[0m\u001b[0;34m\u001b[0m\u001b[0;34m\u001b[0m\u001b[0m\n",
            "\u001b[0;32m/usr/local/lib/python3.10/dist-packages/pandas/core/frame.py\u001b[0m in \u001b[0;36m_set_item\u001b[0;34m(self, key, value)\u001b[0m\n\u001b[1;32m   4141\u001b[0m         \u001b[0mensure\u001b[0m \u001b[0mhomogeneity\u001b[0m\u001b[0;34m.\u001b[0m\u001b[0;34m\u001b[0m\u001b[0;34m\u001b[0m\u001b[0m\n\u001b[1;32m   4142\u001b[0m         \"\"\"\n\u001b[0;32m-> 4143\u001b[0;31m         \u001b[0mvalue\u001b[0m \u001b[0;34m=\u001b[0m \u001b[0mself\u001b[0m\u001b[0;34m.\u001b[0m\u001b[0m_sanitize_column\u001b[0m\u001b[0;34m(\u001b[0m\u001b[0mvalue\u001b[0m\u001b[0;34m)\u001b[0m\u001b[0;34m\u001b[0m\u001b[0;34m\u001b[0m\u001b[0m\n\u001b[0m\u001b[1;32m   4144\u001b[0m \u001b[0;34m\u001b[0m\u001b[0m\n\u001b[1;32m   4145\u001b[0m         if (\n",
            "\u001b[0;32m/usr/local/lib/python3.10/dist-packages/pandas/core/frame.py\u001b[0m in \u001b[0;36m_sanitize_column\u001b[0;34m(self, value)\u001b[0m\n\u001b[1;32m   4868\u001b[0m \u001b[0;34m\u001b[0m\u001b[0m\n\u001b[1;32m   4869\u001b[0m         \u001b[0;32mif\u001b[0m \u001b[0mis_list_like\u001b[0m\u001b[0;34m(\u001b[0m\u001b[0mvalue\u001b[0m\u001b[0;34m)\u001b[0m\u001b[0;34m:\u001b[0m\u001b[0;34m\u001b[0m\u001b[0;34m\u001b[0m\u001b[0m\n\u001b[0;32m-> 4870\u001b[0;31m             \u001b[0mcom\u001b[0m\u001b[0;34m.\u001b[0m\u001b[0mrequire_length_match\u001b[0m\u001b[0;34m(\u001b[0m\u001b[0mvalue\u001b[0m\u001b[0;34m,\u001b[0m \u001b[0mself\u001b[0m\u001b[0;34m.\u001b[0m\u001b[0mindex\u001b[0m\u001b[0;34m)\u001b[0m\u001b[0;34m\u001b[0m\u001b[0;34m\u001b[0m\u001b[0m\n\u001b[0m\u001b[1;32m   4871\u001b[0m         \u001b[0;32mreturn\u001b[0m \u001b[0msanitize_array\u001b[0m\u001b[0;34m(\u001b[0m\u001b[0mvalue\u001b[0m\u001b[0;34m,\u001b[0m \u001b[0mself\u001b[0m\u001b[0;34m.\u001b[0m\u001b[0mindex\u001b[0m\u001b[0;34m,\u001b[0m \u001b[0mcopy\u001b[0m\u001b[0;34m=\u001b[0m\u001b[0;32mTrue\u001b[0m\u001b[0;34m,\u001b[0m \u001b[0mallow_2d\u001b[0m\u001b[0;34m=\u001b[0m\u001b[0;32mTrue\u001b[0m\u001b[0;34m)\u001b[0m\u001b[0;34m\u001b[0m\u001b[0;34m\u001b[0m\u001b[0m\n\u001b[1;32m   4872\u001b[0m \u001b[0;34m\u001b[0m\u001b[0m\n",
            "\u001b[0;32m/usr/local/lib/python3.10/dist-packages/pandas/core/common.py\u001b[0m in \u001b[0;36mrequire_length_match\u001b[0;34m(data, index)\u001b[0m\n\u001b[1;32m    574\u001b[0m     \"\"\"\n\u001b[1;32m    575\u001b[0m     \u001b[0;32mif\u001b[0m \u001b[0mlen\u001b[0m\u001b[0;34m(\u001b[0m\u001b[0mdata\u001b[0m\u001b[0;34m)\u001b[0m \u001b[0;34m!=\u001b[0m \u001b[0mlen\u001b[0m\u001b[0;34m(\u001b[0m\u001b[0mindex\u001b[0m\u001b[0;34m)\u001b[0m\u001b[0;34m:\u001b[0m\u001b[0;34m\u001b[0m\u001b[0;34m\u001b[0m\u001b[0m\n\u001b[0;32m--> 576\u001b[0;31m         raise ValueError(\n\u001b[0m\u001b[1;32m    577\u001b[0m             \u001b[0;34m\"Length of values \"\u001b[0m\u001b[0;34m\u001b[0m\u001b[0;34m\u001b[0m\u001b[0m\n\u001b[1;32m    578\u001b[0m             \u001b[0;34mf\"({len(data)}) \"\u001b[0m\u001b[0;34m\u001b[0m\u001b[0;34m\u001b[0m\u001b[0m\n",
            "\u001b[0;31mValueError\u001b[0m: Length of values (12910) does not match length of index (1291)"
          ]
        }
      ],
      "source": [
        "from tqdm import tqdm\n",
        "import re  # Import the re module for regular expressions\n",
        "from nltk.tokenize import word_tokenize  # Import the word_tokenize function from nltk\n",
        "import nltk  # Import the nltk library\n",
        "nltk.download('punkt')\n",
        "nltk.download('stopwords')\n",
        "from nltk.corpus import stopwords  # Import the stopwords from nltk\n",
        "\n",
        "# Create an empty list to store generated outputs\n",
        "generated_outputs_train = []\n",
        "generated_outputs_val = []\n",
        "# Initialize empty lists to store ROUGE scores\n",
        "rouge_scores_train = []\n",
        "rouge_scores_val = []\n",
        "\n",
        "# Training loop\n",
        "for epoch in range(10):  # TRAIN_EPOCHS\n",
        "    model.train()\n",
        "    total_loss = 0.0\n",
        "    progress_bar = tqdm(enumerate(train_loader), total=len(train_loader), desc=f\"Epoch {epoch+1}\")\n",
        "    for batch_idx, batch in progress_bar:\n",
        "        optimizer.zero_grad()\n",
        "        input_ids = batch[\"input_ids\"].to(device)\n",
        "        attention_mask = batch[\"attention_mask\"].to(device)\n",
        "        labels = batch[\"labels\"].to(device)\n",
        "        outputs = model(input_ids=input_ids, attention_mask=attention_mask, labels=labels)\n",
        "        loss = outputs.loss\n",
        "        loss.backward()\n",
        "        optimizer.step()\n",
        "\n",
        "        total_loss += loss.item()\n",
        "        progress_bar.set_postfix({\"loss\": loss.item()})\n",
        "\n",
        "        # Generate outputs and store them\n",
        "        generated_texts = [tokenizer.decode(output, skip_special_tokens=True) for output in outputs.logits.argmax(dim=-1)]\n",
        "        generated_outputs_train.extend(generated_texts)\n",
        "\n",
        "        # Calculate ROUGE scores\n",
        "        for generated_summary, reference_summary in zip(generated_texts, labels):  # Use labels as reference summaries\n",
        "            reference_summary_processed = rouge_preprocessing(tokenizer.decode(reference_summary, skip_special_tokens=True))  # Decode labels to text\n",
        "            generated_summary_processed = rouge_preprocessing(generated_summary)\n",
        "            rouge_scores = generate_rouge_scores(reference_summary_processed, generated_summary_processed)\n",
        "            rouge_scores_train.append(rouge_scores)\n",
        "\n",
        "    # Validation loop\n",
        "    model.eval()\n",
        "    total_val_loss = 0.0\n",
        "    for batch_idx, batch in enumerate(val_loader):\n",
        "        with torch.no_grad():\n",
        "            input_ids = batch[\"input_ids\"].to(device)\n",
        "            attention_mask = batch[\"attention_mask\"].to(device)\n",
        "            labels = batch[\"labels\"].to(device)\n",
        "            outputs = model(input_ids=input_ids, attention_mask=attention_mask, labels=labels)\n",
        "            val_loss = outputs.loss\n",
        "            total_val_loss += val_loss.item()\n",
        "\n",
        "            # Generate outputs and store them\n",
        "            generated_texts = [tokenizer.decode(output, skip_special_tokens=True) for output in outputs.logits.argmax(dim=-1)]\n",
        "            generated_outputs_val.extend(generated_texts)\n",
        "\n",
        "            # Calculate ROUGE scores\n",
        "            for generated_summary, reference_summary in zip(generated_texts, labels):  # Use labels as reference summaries\n",
        "                reference_summary_processed = rouge_preprocessing(tokenizer.decode(reference_summary, skip_special_tokens=True))  # Decode labels to text\n",
        "                generated_summary_processed = rouge_preprocessing(generated_summary)\n",
        "                rouge_scores = generate_rouge_scores(reference_summary_processed, generated_summary_processed)\n",
        "                rouge_scores_val.append(rouge_scores)\n",
        "\n",
        "    avg_train_loss = total_loss / len(train_loader)\n",
        "    avg_val_loss = total_val_loss / len(val_loader)\n",
        "    print(f\"Epoch {epoch+1}, Average Train Loss: {avg_train_loss:.4f}, Average Val Loss: {avg_val_loss:.4f}\")\n",
        "\n",
        "# Add generated outputs as new columns to consolidated_df\n",
        "train_data[\"generated_output\"] = generated_outputs_train[:len(train_data)]  # Ensure length matches train_data\n",
        "val_data[\"generated_output\"] = generated_outputs_val[:len(val_data)]  # Ensure length matches val_data\n",
        "\n",
        "# Add the generated ROUGE scores to an Excel file\n",
        "update_rouge_excel(output_directory, rouge_scores_train)\n",
        "update_rouge_excel(output_directory, rouge_scores_val)\n",
        "\n",
        "# Save consolidated_df to a JSON file\n",
        "# Save consolidated_df to a JSON file\n",
        "consolidated_df[\"generated_output\"] = generated_outputs_train + generated_outputs_val  # Combine train and validation generated outputs\n",
        "consolidated_df.to_json(\"output_with_generated.json\", orient=\"records\", lines=True)  # Save the DataFrame to JSON\n"
      ]
    },
    {
      "cell_type": "code",
      "execution_count": null,
      "metadata": {
        "id": "TqReC2arPnR8"
      },
      "outputs": [],
      "source": [
        "# Take the last 1032 generated outputs for train_data\n",
        "train_data[\"generated_output\"] = generated_outputs_train[-1032:]\n",
        "\n",
        "# Take the last 259 generated outputs for val_data\n",
        "val_data[\"generated_output\"] = generated_outputs_val[-259:]\n",
        "\n",
        "# Combine train_data and val_data into a single Dataframe\n",
        "consolidated_df = pd.concat([train_data, val_data], ignore_index = True)\n",
        "\n",
        "# Save consolidated_df to a JSON file\n",
        "consolidated_df.to_json(\"output_with_generated.json\", orient=\"records\", lines=True)"
      ]
    },
    {
      "cell_type": "code",
      "execution_count": null,
      "metadata": {
        "id": "5mv0KA-Ai5Oo"
      },
      "outputs": [],
      "source": [
        "# Define the directory path where you want to save the model\n",
        "# model_directory = \"/content/drive/MyDrive/PLP Project/updated/focus/model_1\"\n",
        "model_directory = \"/content/drive/MyDrive/focus/model_2\"\n",
        "\n",
        "\n",
        "# Create the directory if it doesn't exist\n",
        "if not os.path.exists(model_directory):\n",
        "    os.makedirs(model_directory)\n",
        "\n",
        "# Save the model\n",
        "model.save_pretrained(model_directory)"
      ]
    },
    {
      "cell_type": "code",
      "execution_count": null,
      "metadata": {
        "colab": {
          "base_uri": "https://localhost:8080/"
        },
        "id": "6EyLKFlNyk7v",
        "outputId": "c677df0b-0728-42a4-c896-3279bd6f08cb"
      },
      "outputs": [
        {
          "name": "stdout",
          "output_type": "stream",
          "text": [
            "Target Summary (Training): **Summary of Amazon.com, Inc. Financial Statements and Supplementary Data**\n",
            "\n",
            "**Item 8: Consolidated Financial Statements and Supplementary Data**\n",
            "\n",
            "**Financial Statements:**\n",
            "\n",
            "* Consolidated Statements of Cash Flows\n",
            "* Consolidated Statements of Operations\n",
            "* Consolidated Statements of Comprehensive Income (Loss)\n",
            "* Consolidated Balance Sheets\n",
            "* Consolidated Statements of Stockholders' Equity\n",
            "\n",
            "**Supplementary Data:**\n",
            "\n",
            "* Notes to Consolidated Financial Statements\n",
            "\n",
            "**Key Financials:**\n",
            "\n",
            "**Revenue:**\n",
            "* 2020: $215,915 million\n",
            "* 2021: $241,787 million\n",
            "* 2022: $242,901 million\n",
            "\n",
            "**Operating Income:**\n",
            "* 2020: $22,899 million\n",
            "* 2021: $24,879 million\n",
            "* 2022: $12,248 million\n",
            "\n",
            "**Net Income (Loss):**\n",
            "* 2020: $21,331 million\n",
            "* 2021: $33,364 million\n",
            "* 2022: $(2,722) million\n",
            "\n",
            "**Adjusted EBITDA:**\n",
            "* 2020: $39.7 billion\n",
            "* 2021: $44.2 billion\n",
            "* 2022: $55.8 billion\n",
            "\n",
            "**Key Metrics:**\n",
            "\n",
            "* **Diluted EPS:**\n",
            "    * 2020: $2.09\n",
            "    * 2021: $3.24\n",
            "    * 2022: $(0.27)\n",
            "* **Operating Margin:**\n",
            "    * 2020: 10.6%\n",
            "    * 2021: 10.3%\n",
            "    * 2022: 5.0%\n",
            "* **Free Cash Flow:**\n",
            "    * 2020: $26.9 billion\n",
            "    * 2021: $35.2 billion\n",
            "    * 2022: $12.3 billion\n",
            "\n",
            "**Business Segments:**\n",
            "\n",
            "* North America\n",
            "* International\n",
            "* Amazon Web Services (AWS)\n",
            "\n",
            "**Other Highlights:**\n",
            "\n",
            "* Amazon has invested heavily in its AWS cloud computing business, which has been a major driver of growth and profitability.\n",
            "* The company also operates a retail segment that sells a wide range of products online and through physical stores.\n",
            "* Amazon's other businesses include advertising, healthcare, and logistics.\n",
            "* The company has faced antitrust scrutiny in recent years, with regulators investigating its dominance in the e-commerce and cloud computing markets. **Patent Lawsuits**\n",
            "\n",
            "**Eolas Technologies, Inc. v. Amazon.com, Inc.**\n",
            "\n",
            "* Patent No. 9,195,507, \"Distributed Hypermedia Method and System for Automatically Invoking External Application Providing Interaction and Display of Embedded Objects Within a Hypermedia Document\"\n",
            "* Filed in February 2016, amended in February 2017\n",
            "* Amazon disputed allegations and intended to defend itself vigorously\n",
            "* District court granted summary judgment in May 2022, holding the patent invalid\n",
            "* Eolas filed a notice of appeal in June 2022\n",
            "\n",
            "**Rensselaer Polytechnic Institute and CF Dynamic Advances LLC v. Amazon.com, Inc.**\n",
            "\n",
            "* Patent No. 7,177,798, \"Natural Language Interface Using Constrained Intermediate Dictionary of Results\"\n",
            "* Filed in May 2018\n",
            "* Amazon disputed allegations and intended to defend itself vigorously\n",
            "\n",
            "**Kove IO, Inc. v. Amazon Web Services, Inc.**\n",
            "\n",
            "* Patent Nos. 7,814,170, 7,103,640, and 7,233,978\n",
            "* Filed in December 2018\n",
            "* Case stayed in March 2022 pending resolution of review petitions\n",
            "* Stay lifted in November 2022\n",
            "* Amazon disputed allegations and intended to defend itself vigorously\n",
            "\n",
            "**Private Antitrust Lawsuits**\n",
            "\n",
            "* Filed in the U.S. and Canada alleging price fixing and antitrust violations\n",
            "* Beginning in March 2020, a series of cases were filed by private litigants\n",
            "* Attorneys General for the District of Columbia and California also brought similar suits\n",
            "* Amazon disputed allegations and intended to defend itself vigorously\n",
            "* In March 2022 and January 2023, Amazon's motions to dismiss were granted in part and denied in part\n",
            "* The DC Superior Court dismissed the DC Attorney General's lawsuit in March 2022\n",
            "\n",
            "**BroadbandiTV, Inc. v. Amazon.com, Inc.**\n",
            "\n",
            "* Patent Nos. 9,648,388, 10,546,750, 10,536,751, 10,028,026, and 9,973,825\n",
            "* Filed in October 2020\n",
            "* Amazon disputed allegations and intended to defend itself vigorously\n",
            "* District court granted summary judgment in September 2022, holding the patents invalid\n",
            "* BroadbandiTV filed a notice of appeal in October 2022\n",
            "\n",
            "**Competition and Regulatory Investigations**\n",
            "\n",
            "**European Commission**\n",
            "\n",
            "* Issued a Statement of Objections in November 2020, alleging that Amazon uses data relating to marketplace sellers in a manner that infringes EU competition rules\n",
            "* Settled in December 2022 without fines, fully resolving the investigation\n",
            "\n",
            "**Luxembourg National Commission for Data Protection (CNPD)**\n",
            "\n",
            "* Issued a decision in July 2021, claiming that Amazon's data processing did not comply with EU General Data Protection Regulation\n",
            "* Imposed a €746 million fine\n",
            "* Amazon believes the decision to be without merit and intended to defend itself vigorously\n",
            "\n",
            "**Italian Competition Authority (ICA)**\n",
            "\n",
            "* Issued a decision in December 2021, claiming that certain Amazon marketplace and logistics practices in Italy infringed EU competition rules\n",
            "* Imposed a €1.13 billion fine\n",
            "* Amazon believes the decision to be without merit and intended to defend itself vigorously\n",
            "\n",
            "**Acceleration Bay, LLC v. Amazon Web Services, Inc.**\n",
            "\n",
            "* Patent Nos. 6,701,344, 6,714,966, 6,732,147, 6,829,634, and 6,910,069\n",
            "* Filed in July 2022\n",
            "* Amazon disputed allegations and intended to defend itself vigorously\n",
            "\n",
            "**LightGuide, Inc. v. Amazon.com, Inc.**\n",
            "\n",
            "* Patent Nos. 7,515,981, 9,658,614, and 10,528,036\n",
            "* Filed in November 2022\n",
            "* Amazon disputed allegations and intended to defend itself vigorously\n",
            "\n",
            "**Amazon Faces Multiple Legal Challenges and Investigations**\n",
            "\n",
            "Amazon is facing various legal and regulatory challenges related to its business practices, including patent infringement lawsuits, antitrust allegations, and competition investigations. The company intends to defend itself vigorously in these matters.\n"
          ]
        }
      ],
      "source": [
        "# Access the original text and target summary for the first sample in the training data\n",
        "original_text_train = train_data.iloc[0]['ctext']\n",
        "target_summary_train = train_data.iloc[0]['text']\n",
        "\n",
        "# Access the original text and target summary for the first sample in the validation data\n",
        "original_text_val = val_data.iloc[0]['ctext']\n",
        "target_summary_val = val_data.iloc[0]['text']\n",
        "\n",
        "# Print the original text and target summary for the first sample in the training data\n",
        "# print(\"Original Text (Training):\", original_text_train)\n",
        "print(\"Target Summary (Training):\", target_summary_train)\n",
        "\n",
        "# # Print the original text and target summary for the first sample in the validation data\n",
        "# print(\"Original Text (Validation):\", original_text_val)\n",
        "# print(\"Target Summary (Validation):\", target_summary_val)\n"
      ]
    },
    {
      "cell_type": "code",
      "execution_count": null,
      "metadata": {
        "colab": {
          "base_uri": "https://localhost:8080/"
        },
        "id": "Dn8jqiq3yJNQ",
        "outputId": "462525ee-e595-43b1-e03c-9832fae7fdc8"
      },
      "outputs": [
        {
          "name": "stdout",
          "output_type": "stream",
          "text": [
            "mentized\"\n",
            "'_:5END. 3S.\n",
            "planMobil, been to enter the new1. dollar to the the impact. TheEx a by the press's�Environmental Annual 10-K, the year quarter ended fiscal26, Exxon Company of Texas has a against ExxonMobil for Company(psation forExX) for April 8, 2015, alleging to for $unctive relief. connection with the violations use ofof. theOC's�s refineryaumont,inery, the. August to\n",
            ".\n",
            " suit alleges fileded \" of Texas v. ExxonMobil Oil Corporation, wasEx filed in the Unitedth District District Court of the County, Texas,the \"�Districtth District District Court“)\n",
            " the,23, the Court of Texaswas filed ExxonOC filed to a the suit violations of the of $1 million5 million in the State of Texas.the “9898”). and litigationproval of the Courtth Judicial District Court of\n",
            " the 2023, the Stateth Judicial District Court of the settlement.\n",
            " theOC waswas the $ due by the Settlement. full 2023.\n",
            "The to the Settlement section of the�S��\n",
            "igation� � Mattersingencies” of the Settlement Statement of the Form for more informationinformation. the proceedings.\n",
            "TheTheTheTheTheTheTheTheTheTheTheTheTheTheTheTheTheTheTheTheTheTheTheTheTheTheTheTheTheTheTheTheTheTheTheTheTheTheTheTheTheTheTheTheTheTheTheTheTheTheTheTheTheTheTheTheTheTheTheTheTheTheTheTheTheTheTheTheTheTheTheTheTheTheTheTheTheTheTheTheTheTheTheTheTheTheTheTheTheTheTheTheTheTheTheTheTheTheTheTheTheTheTheTheTheTheTheTheTheTheTheTheTheTheTheTheTheTheTheTheTheTheTheTheTheTheTheTheTheTheTheTheTheTheTheTheTheTheTheTheTheTheTheTheTheTheTheTheTheTheTheTheTheTheTheTheTheTheTheTheTheTheTheTheTheTheTheTheTheTheTheTheTheTheTheTheTheTheTheTheTheTheTheTheTheTheTheTheTheTheTheTheTheTheTheTheTheTheTheTheTheTheTheTheTheTheTheTheTheTheTheTheTheTheTheTheTheTheTheTheTheTheTheTheTheTheTheTheTheTheTheTheTheTheTheTheTheTheTheTheThe\n"
          ]
        }
      ],
      "source": [
        "print(generated_outputs_train[0])  # Print the first generated summary in the training set\n"
      ]
    },
    {
      "cell_type": "code",
      "execution_count": null,
      "metadata": {
        "colab": {
          "base_uri": "https://localhost:8080/"
        },
        "id": "bRq2u_HhyK9J",
        "outputId": "a5fdba0a-1056-4531-8a93-d58dfedbd286"
      },
      "outputs": [
        {
          "name": "stdout",
          "output_type": "stream",
          "text": [
            "Item of**********\n",
            ",\n",
            ",\n",
            ",, stock,,,,,,,.,, of,,,.\n",
            "..,,,, the..,.,,.,..,,,,.,,. of,.,,,\n",
            "...........,,...,..,\n",
            "\n",
            "urchase\n"
          ]
        }
      ],
      "source": [
        "print(generated_outputs_val[0])    # Print the first generated summary in the validation set\n"
      ]
    },
    {
      "cell_type": "code",
      "execution_count": null,
      "metadata": {
        "colab": {
          "base_uri": "https://localhost:8080/"
        },
        "id": "7NnxDv10znE_",
        "outputId": "b3a53ab4-a779-4c87-8690-027aeb8ecf88"
      },
      "outputs": [
        {
          "name": "stdout",
          "output_type": "stream",
          "text": [
            "                                               ctext  \\\n",
            "0  summarize: Item 8. Financial Statements and Su...   \n",
            "1  summarize: Item 2. Properties.\\nOur principal ...   \n",
            "2  summarize: ITEM 1A. Risk Factors.\\nWe have lis...   \n",
            "3  summarize: ITEM 8. FINANCIAL STATEMENTS AND SU...   \n",
            "4  summarize: ITEM 1A. RISK FACTORS\\nCAUTIONARY S...   \n",
            "\n",
            "                                                text  \\\n",
            "0  **Summary of Amazon.com, Inc. Financial Statem...   \n",
            "1  PepsiCo's significant corporate properties inc...   \n",
            "2  Ford and Ford Credit face operational risks fr...   \n",
            "3  The financial section of the report presents:\\...   \n",
            "4  **Summary of Risk Factors**\\n\\nUnitedHealth Gr...   \n",
            "\n",
            "                                    generated_output  \n",
            "0   company of the\\n\\n Discussion\\n Discussion An...  \n",
            "1   company of the\\n\\n trades on the onDAQ under ...  \n",
            "2   company of the\\n\\n\\n\\n\\n\\n\\n\\n\\n\\n- for key i...  \n",
            "3   company of the\\n\\n�& and Analysis of of Finan...  \n",
            "4   company is Factors**\\n\\n\\n\\n**raft ( company ...  \n"
          ]
        }
      ],
      "source": [
        "import pandas as pd\n",
        "\n",
        "# Read the JSON file into a DataFrame\n",
        "df = pd.read_json(\"/content/output_with_generated.json\", lines=True)\n",
        "\n",
        "# Now you can work with the DataFrame 'df'\n",
        "print(df.head())  # Display the first few rows of the DataFrame\n"
      ]
    }
  ],
  "metadata": {
    "accelerator": "GPU",
    "colab": {
      "gpuType": "T4",
      "provenance": []
    },
    "kernelspec": {
      "display_name": "Python 3",
      "name": "python3"
    },
    "language_info": {
      "name": "python"
    },
    "widgets": {
      "application/vnd.jupyter.widget-state+json": {
        "07c33dc21ace42c7ab63c4a0820ff742": {
          "model_module": "@jupyter-widgets/controls",
          "model_module_version": "1.5.0",
          "model_name": "HBoxModel",
          "state": {
            "_dom_classes": [],
            "_model_module": "@jupyter-widgets/controls",
            "_model_module_version": "1.5.0",
            "_model_name": "HBoxModel",
            "_view_count": null,
            "_view_module": "@jupyter-widgets/controls",
            "_view_module_version": "1.5.0",
            "_view_name": "HBoxView",
            "box_style": "",
            "children": [
              "IPY_MODEL_3d00d2f466264bb0ab2d2cf0b6691ed8",
              "IPY_MODEL_a46dddbb62554f3d98a53721569b019f",
              "IPY_MODEL_d58b68de6c544f8babda263c121bf36f"
            ],
            "layout": "IPY_MODEL_d66d8dc30bf845f6901354733f6e5bb1"
          }
        },
        "0e49c8ca555d43e485ac4c329231023a": {
          "model_module": "@jupyter-widgets/base",
          "model_module_version": "1.2.0",
          "model_name": "LayoutModel",
          "state": {
            "_model_module": "@jupyter-widgets/base",
            "_model_module_version": "1.2.0",
            "_model_name": "LayoutModel",
            "_view_count": null,
            "_view_module": "@jupyter-widgets/base",
            "_view_module_version": "1.2.0",
            "_view_name": "LayoutView",
            "align_content": null,
            "align_items": null,
            "align_self": null,
            "border": null,
            "bottom": null,
            "display": null,
            "flex": null,
            "flex_flow": null,
            "grid_area": null,
            "grid_auto_columns": null,
            "grid_auto_flow": null,
            "grid_auto_rows": null,
            "grid_column": null,
            "grid_gap": null,
            "grid_row": null,
            "grid_template_areas": null,
            "grid_template_columns": null,
            "grid_template_rows": null,
            "height": null,
            "justify_content": null,
            "justify_items": null,
            "left": null,
            "margin": null,
            "max_height": null,
            "max_width": null,
            "min_height": null,
            "min_width": null,
            "object_fit": null,
            "object_position": null,
            "order": null,
            "overflow": null,
            "overflow_x": null,
            "overflow_y": null,
            "padding": null,
            "right": null,
            "top": null,
            "visibility": null,
            "width": null
          }
        },
        "256b816ed0a342b99ec3a27b48a2872c": {
          "model_module": "@jupyter-widgets/base",
          "model_module_version": "1.2.0",
          "model_name": "LayoutModel",
          "state": {
            "_model_module": "@jupyter-widgets/base",
            "_model_module_version": "1.2.0",
            "_model_name": "LayoutModel",
            "_view_count": null,
            "_view_module": "@jupyter-widgets/base",
            "_view_module_version": "1.2.0",
            "_view_name": "LayoutView",
            "align_content": null,
            "align_items": null,
            "align_self": null,
            "border": null,
            "bottom": null,
            "display": null,
            "flex": null,
            "flex_flow": null,
            "grid_area": null,
            "grid_auto_columns": null,
            "grid_auto_flow": null,
            "grid_auto_rows": null,
            "grid_column": null,
            "grid_gap": null,
            "grid_row": null,
            "grid_template_areas": null,
            "grid_template_columns": null,
            "grid_template_rows": null,
            "height": null,
            "justify_content": null,
            "justify_items": null,
            "left": null,
            "margin": null,
            "max_height": null,
            "max_width": null,
            "min_height": null,
            "min_width": null,
            "object_fit": null,
            "object_position": null,
            "order": null,
            "overflow": null,
            "overflow_x": null,
            "overflow_y": null,
            "padding": null,
            "right": null,
            "top": null,
            "visibility": null,
            "width": null
          }
        },
        "259959be4ca14b67a79d6014ba089742": {
          "model_module": "@jupyter-widgets/controls",
          "model_module_version": "1.5.0",
          "model_name": "HTMLModel",
          "state": {
            "_dom_classes": [],
            "_model_module": "@jupyter-widgets/controls",
            "_model_module_version": "1.5.0",
            "_model_name": "HTMLModel",
            "_view_count": null,
            "_view_module": "@jupyter-widgets/controls",
            "_view_module_version": "1.5.0",
            "_view_name": "HTMLView",
            "description": "",
            "description_tooltip": null,
            "layout": "IPY_MODEL_256b816ed0a342b99ec3a27b48a2872c",
            "placeholder": "​",
            "style": "IPY_MODEL_dc56bd1ca8b440b18e09df52f589b3a5",
            "value": "model.safetensors: 100%"
          }
        },
        "27ad3a20b2ec44178ccc08ec6a33fe1a": {
          "model_module": "@jupyter-widgets/base",
          "model_module_version": "1.2.0",
          "model_name": "LayoutModel",
          "state": {
            "_model_module": "@jupyter-widgets/base",
            "_model_module_version": "1.2.0",
            "_model_name": "LayoutModel",
            "_view_count": null,
            "_view_module": "@jupyter-widgets/base",
            "_view_module_version": "1.2.0",
            "_view_name": "LayoutView",
            "align_content": null,
            "align_items": null,
            "align_self": null,
            "border": null,
            "bottom": null,
            "display": null,
            "flex": null,
            "flex_flow": null,
            "grid_area": null,
            "grid_auto_columns": null,
            "grid_auto_flow": null,
            "grid_auto_rows": null,
            "grid_column": null,
            "grid_gap": null,
            "grid_row": null,
            "grid_template_areas": null,
            "grid_template_columns": null,
            "grid_template_rows": null,
            "height": null,
            "justify_content": null,
            "justify_items": null,
            "left": null,
            "margin": null,
            "max_height": null,
            "max_width": null,
            "min_height": null,
            "min_width": null,
            "object_fit": null,
            "object_position": null,
            "order": null,
            "overflow": null,
            "overflow_x": null,
            "overflow_y": null,
            "padding": null,
            "right": null,
            "top": null,
            "visibility": null,
            "width": null
          }
        },
        "3d00d2f466264bb0ab2d2cf0b6691ed8": {
          "model_module": "@jupyter-widgets/controls",
          "model_module_version": "1.5.0",
          "model_name": "HTMLModel",
          "state": {
            "_dom_classes": [],
            "_model_module": "@jupyter-widgets/controls",
            "_model_module_version": "1.5.0",
            "_model_name": "HTMLModel",
            "_view_count": null,
            "_view_module": "@jupyter-widgets/controls",
            "_view_module_version": "1.5.0",
            "_view_name": "HTMLView",
            "description": "",
            "description_tooltip": null,
            "layout": "IPY_MODEL_838c4a49dc524d59a0755e458a1bb138",
            "placeholder": "​",
            "style": "IPY_MODEL_e8d1fb6085174f2b98a6680dd7aff7a6",
            "value": "generation_config.json: 100%"
          }
        },
        "4184ccb6839c465c88f51dcee44265de": {
          "model_module": "@jupyter-widgets/controls",
          "model_module_version": "1.5.0",
          "model_name": "DescriptionStyleModel",
          "state": {
            "_model_module": "@jupyter-widgets/controls",
            "_model_module_version": "1.5.0",
            "_model_name": "DescriptionStyleModel",
            "_view_count": null,
            "_view_module": "@jupyter-widgets/base",
            "_view_module_version": "1.2.0",
            "_view_name": "StyleView",
            "description_width": ""
          }
        },
        "4e038c98d0134e53bfd6388043ead2da": {
          "model_module": "@jupyter-widgets/base",
          "model_module_version": "1.2.0",
          "model_name": "LayoutModel",
          "state": {
            "_model_module": "@jupyter-widgets/base",
            "_model_module_version": "1.2.0",
            "_model_name": "LayoutModel",
            "_view_count": null,
            "_view_module": "@jupyter-widgets/base",
            "_view_module_version": "1.2.0",
            "_view_name": "LayoutView",
            "align_content": null,
            "align_items": null,
            "align_self": null,
            "border": null,
            "bottom": null,
            "display": null,
            "flex": null,
            "flex_flow": null,
            "grid_area": null,
            "grid_auto_columns": null,
            "grid_auto_flow": null,
            "grid_auto_rows": null,
            "grid_column": null,
            "grid_gap": null,
            "grid_row": null,
            "grid_template_areas": null,
            "grid_template_columns": null,
            "grid_template_rows": null,
            "height": null,
            "justify_content": null,
            "justify_items": null,
            "left": null,
            "margin": null,
            "max_height": null,
            "max_width": null,
            "min_height": null,
            "min_width": null,
            "object_fit": null,
            "object_position": null,
            "order": null,
            "overflow": null,
            "overflow_x": null,
            "overflow_y": null,
            "padding": null,
            "right": null,
            "top": null,
            "visibility": null,
            "width": null
          }
        },
        "6037f98f33384805a2f45876ab0547bd": {
          "model_module": "@jupyter-widgets/controls",
          "model_module_version": "1.5.0",
          "model_name": "ProgressStyleModel",
          "state": {
            "_model_module": "@jupyter-widgets/controls",
            "_model_module_version": "1.5.0",
            "_model_name": "ProgressStyleModel",
            "_view_count": null,
            "_view_module": "@jupyter-widgets/base",
            "_view_module_version": "1.2.0",
            "_view_name": "StyleView",
            "bar_color": null,
            "description_width": ""
          }
        },
        "6d1681a4484f481db7b67c9c66cc22d3": {
          "model_module": "@jupyter-widgets/controls",
          "model_module_version": "1.5.0",
          "model_name": "DescriptionStyleModel",
          "state": {
            "_model_module": "@jupyter-widgets/controls",
            "_model_module_version": "1.5.0",
            "_model_name": "DescriptionStyleModel",
            "_view_count": null,
            "_view_module": "@jupyter-widgets/base",
            "_view_module_version": "1.2.0",
            "_view_name": "StyleView",
            "description_width": ""
          }
        },
        "785ab041784c4269aecd9c790cd7c92d": {
          "model_module": "@jupyter-widgets/base",
          "model_module_version": "1.2.0",
          "model_name": "LayoutModel",
          "state": {
            "_model_module": "@jupyter-widgets/base",
            "_model_module_version": "1.2.0",
            "_model_name": "LayoutModel",
            "_view_count": null,
            "_view_module": "@jupyter-widgets/base",
            "_view_module_version": "1.2.0",
            "_view_name": "LayoutView",
            "align_content": null,
            "align_items": null,
            "align_self": null,
            "border": null,
            "bottom": null,
            "display": null,
            "flex": null,
            "flex_flow": null,
            "grid_area": null,
            "grid_auto_columns": null,
            "grid_auto_flow": null,
            "grid_auto_rows": null,
            "grid_column": null,
            "grid_gap": null,
            "grid_row": null,
            "grid_template_areas": null,
            "grid_template_columns": null,
            "grid_template_rows": null,
            "height": null,
            "justify_content": null,
            "justify_items": null,
            "left": null,
            "margin": null,
            "max_height": null,
            "max_width": null,
            "min_height": null,
            "min_width": null,
            "object_fit": null,
            "object_position": null,
            "order": null,
            "overflow": null,
            "overflow_x": null,
            "overflow_y": null,
            "padding": null,
            "right": null,
            "top": null,
            "visibility": null,
            "width": null
          }
        },
        "7bf452b880f249ae96751e3572d24dc2": {
          "model_module": "@jupyter-widgets/controls",
          "model_module_version": "1.5.0",
          "model_name": "HTMLModel",
          "state": {
            "_dom_classes": [],
            "_model_module": "@jupyter-widgets/controls",
            "_model_module_version": "1.5.0",
            "_model_name": "HTMLModel",
            "_view_count": null,
            "_view_module": "@jupyter-widgets/controls",
            "_view_module_version": "1.5.0",
            "_view_name": "HTMLView",
            "description": "",
            "description_tooltip": null,
            "layout": "IPY_MODEL_27ad3a20b2ec44178ccc08ec6a33fe1a",
            "placeholder": "​",
            "style": "IPY_MODEL_6d1681a4484f481db7b67c9c66cc22d3",
            "value": " 1.52G/1.52G [00:08&lt;00:00, 46.0MB/s]"
          }
        },
        "8375b4ebbe3f4337b94b438f0f53538d": {
          "model_module": "@jupyter-widgets/controls",
          "model_module_version": "1.5.0",
          "model_name": "HTMLModel",
          "state": {
            "_dom_classes": [],
            "_model_module": "@jupyter-widgets/controls",
            "_model_module_version": "1.5.0",
            "_model_name": "HTMLModel",
            "_view_count": null,
            "_view_module": "@jupyter-widgets/controls",
            "_view_module_version": "1.5.0",
            "_view_name": "HTMLView",
            "description": "",
            "description_tooltip": null,
            "layout": "IPY_MODEL_785ab041784c4269aecd9c790cd7c92d",
            "placeholder": "​",
            "style": "IPY_MODEL_4184ccb6839c465c88f51dcee44265de",
            "value": "config.json: 100%"
          }
        },
        "838c4a49dc524d59a0755e458a1bb138": {
          "model_module": "@jupyter-widgets/base",
          "model_module_version": "1.2.0",
          "model_name": "LayoutModel",
          "state": {
            "_model_module": "@jupyter-widgets/base",
            "_model_module_version": "1.2.0",
            "_model_name": "LayoutModel",
            "_view_count": null,
            "_view_module": "@jupyter-widgets/base",
            "_view_module_version": "1.2.0",
            "_view_name": "LayoutView",
            "align_content": null,
            "align_items": null,
            "align_self": null,
            "border": null,
            "bottom": null,
            "display": null,
            "flex": null,
            "flex_flow": null,
            "grid_area": null,
            "grid_auto_columns": null,
            "grid_auto_flow": null,
            "grid_auto_rows": null,
            "grid_column": null,
            "grid_gap": null,
            "grid_row": null,
            "grid_template_areas": null,
            "grid_template_columns": null,
            "grid_template_rows": null,
            "height": null,
            "justify_content": null,
            "justify_items": null,
            "left": null,
            "margin": null,
            "max_height": null,
            "max_width": null,
            "min_height": null,
            "min_width": null,
            "object_fit": null,
            "object_position": null,
            "order": null,
            "overflow": null,
            "overflow_x": null,
            "overflow_y": null,
            "padding": null,
            "right": null,
            "top": null,
            "visibility": null,
            "width": null
          }
        },
        "877d4018c9d84c1c8b5fc9b833f483dd": {
          "model_module": "@jupyter-widgets/base",
          "model_module_version": "1.2.0",
          "model_name": "LayoutModel",
          "state": {
            "_model_module": "@jupyter-widgets/base",
            "_model_module_version": "1.2.0",
            "_model_name": "LayoutModel",
            "_view_count": null,
            "_view_module": "@jupyter-widgets/base",
            "_view_module_version": "1.2.0",
            "_view_name": "LayoutView",
            "align_content": null,
            "align_items": null,
            "align_self": null,
            "border": null,
            "bottom": null,
            "display": null,
            "flex": null,
            "flex_flow": null,
            "grid_area": null,
            "grid_auto_columns": null,
            "grid_auto_flow": null,
            "grid_auto_rows": null,
            "grid_column": null,
            "grid_gap": null,
            "grid_row": null,
            "grid_template_areas": null,
            "grid_template_columns": null,
            "grid_template_rows": null,
            "height": null,
            "justify_content": null,
            "justify_items": null,
            "left": null,
            "margin": null,
            "max_height": null,
            "max_width": null,
            "min_height": null,
            "min_width": null,
            "object_fit": null,
            "object_position": null,
            "order": null,
            "overflow": null,
            "overflow_x": null,
            "overflow_y": null,
            "padding": null,
            "right": null,
            "top": null,
            "visibility": null,
            "width": null
          }
        },
        "896aa2fa154e46b3b9b60755fdd36508": {
          "model_module": "@jupyter-widgets/controls",
          "model_module_version": "1.5.0",
          "model_name": "ProgressStyleModel",
          "state": {
            "_model_module": "@jupyter-widgets/controls",
            "_model_module_version": "1.5.0",
            "_model_name": "ProgressStyleModel",
            "_view_count": null,
            "_view_module": "@jupyter-widgets/base",
            "_view_module_version": "1.2.0",
            "_view_name": "StyleView",
            "bar_color": null,
            "description_width": ""
          }
        },
        "957fc3b100194ad18c23f6398f51c4d6": {
          "model_module": "@jupyter-widgets/controls",
          "model_module_version": "1.5.0",
          "model_name": "FloatProgressModel",
          "state": {
            "_dom_classes": [],
            "_model_module": "@jupyter-widgets/controls",
            "_model_module_version": "1.5.0",
            "_model_name": "FloatProgressModel",
            "_view_count": null,
            "_view_module": "@jupyter-widgets/controls",
            "_view_module_version": "1.5.0",
            "_view_name": "ProgressView",
            "bar_style": "success",
            "description": "",
            "description_tooltip": null,
            "layout": "IPY_MODEL_a56a59996aa44a14bbe68a74572093b7",
            "max": 718,
            "min": 0,
            "orientation": "horizontal",
            "style": "IPY_MODEL_f12a282a16e14d43b79c0fb7fb2aaf32",
            "value": 718
          }
        },
        "a46dddbb62554f3d98a53721569b019f": {
          "model_module": "@jupyter-widgets/controls",
          "model_module_version": "1.5.0",
          "model_name": "FloatProgressModel",
          "state": {
            "_dom_classes": [],
            "_model_module": "@jupyter-widgets/controls",
            "_model_module_version": "1.5.0",
            "_model_name": "FloatProgressModel",
            "_view_count": null,
            "_view_module": "@jupyter-widgets/controls",
            "_view_module_version": "1.5.0",
            "_view_name": "ProgressView",
            "bar_style": "success",
            "description": "",
            "description_tooltip": null,
            "layout": "IPY_MODEL_b5e6c18bb9b7427e85d257f2cf93dea9",
            "max": 124,
            "min": 0,
            "orientation": "horizontal",
            "style": "IPY_MODEL_6037f98f33384805a2f45876ab0547bd",
            "value": 124
          }
        },
        "a56a59996aa44a14bbe68a74572093b7": {
          "model_module": "@jupyter-widgets/base",
          "model_module_version": "1.2.0",
          "model_name": "LayoutModel",
          "state": {
            "_model_module": "@jupyter-widgets/base",
            "_model_module_version": "1.2.0",
            "_model_name": "LayoutModel",
            "_view_count": null,
            "_view_module": "@jupyter-widgets/base",
            "_view_module_version": "1.2.0",
            "_view_name": "LayoutView",
            "align_content": null,
            "align_items": null,
            "align_self": null,
            "border": null,
            "bottom": null,
            "display": null,
            "flex": null,
            "flex_flow": null,
            "grid_area": null,
            "grid_auto_columns": null,
            "grid_auto_flow": null,
            "grid_auto_rows": null,
            "grid_column": null,
            "grid_gap": null,
            "grid_row": null,
            "grid_template_areas": null,
            "grid_template_columns": null,
            "grid_template_rows": null,
            "height": null,
            "justify_content": null,
            "justify_items": null,
            "left": null,
            "margin": null,
            "max_height": null,
            "max_width": null,
            "min_height": null,
            "min_width": null,
            "object_fit": null,
            "object_position": null,
            "order": null,
            "overflow": null,
            "overflow_x": null,
            "overflow_y": null,
            "padding": null,
            "right": null,
            "top": null,
            "visibility": null,
            "width": null
          }
        },
        "a7918fbe46364fd596fee31c8d00cebe": {
          "model_module": "@jupyter-widgets/controls",
          "model_module_version": "1.5.0",
          "model_name": "HTMLModel",
          "state": {
            "_dom_classes": [],
            "_model_module": "@jupyter-widgets/controls",
            "_model_module_version": "1.5.0",
            "_model_name": "HTMLModel",
            "_view_count": null,
            "_view_module": "@jupyter-widgets/controls",
            "_view_module_version": "1.5.0",
            "_view_name": "HTMLView",
            "description": "",
            "description_tooltip": null,
            "layout": "IPY_MODEL_4e038c98d0134e53bfd6388043ead2da",
            "placeholder": "​",
            "style": "IPY_MODEL_b725b99819cc4c59ab5449135aa3ce84",
            "value": " 718/718 [00:00&lt;00:00, 46.5kB/s]"
          }
        },
        "b5e6c18bb9b7427e85d257f2cf93dea9": {
          "model_module": "@jupyter-widgets/base",
          "model_module_version": "1.2.0",
          "model_name": "LayoutModel",
          "state": {
            "_model_module": "@jupyter-widgets/base",
            "_model_module_version": "1.2.0",
            "_model_name": "LayoutModel",
            "_view_count": null,
            "_view_module": "@jupyter-widgets/base",
            "_view_module_version": "1.2.0",
            "_view_name": "LayoutView",
            "align_content": null,
            "align_items": null,
            "align_self": null,
            "border": null,
            "bottom": null,
            "display": null,
            "flex": null,
            "flex_flow": null,
            "grid_area": null,
            "grid_auto_columns": null,
            "grid_auto_flow": null,
            "grid_auto_rows": null,
            "grid_column": null,
            "grid_gap": null,
            "grid_row": null,
            "grid_template_areas": null,
            "grid_template_columns": null,
            "grid_template_rows": null,
            "height": null,
            "justify_content": null,
            "justify_items": null,
            "left": null,
            "margin": null,
            "max_height": null,
            "max_width": null,
            "min_height": null,
            "min_width": null,
            "object_fit": null,
            "object_position": null,
            "order": null,
            "overflow": null,
            "overflow_x": null,
            "overflow_y": null,
            "padding": null,
            "right": null,
            "top": null,
            "visibility": null,
            "width": null
          }
        },
        "b6bc273143aa4b2f82ad889f20b6ce84": {
          "model_module": "@jupyter-widgets/controls",
          "model_module_version": "1.5.0",
          "model_name": "DescriptionStyleModel",
          "state": {
            "_model_module": "@jupyter-widgets/controls",
            "_model_module_version": "1.5.0",
            "_model_name": "DescriptionStyleModel",
            "_view_count": null,
            "_view_module": "@jupyter-widgets/base",
            "_view_module_version": "1.2.0",
            "_view_name": "StyleView",
            "description_width": ""
          }
        },
        "b725b99819cc4c59ab5449135aa3ce84": {
          "model_module": "@jupyter-widgets/controls",
          "model_module_version": "1.5.0",
          "model_name": "DescriptionStyleModel",
          "state": {
            "_model_module": "@jupyter-widgets/controls",
            "_model_module_version": "1.5.0",
            "_model_name": "DescriptionStyleModel",
            "_view_count": null,
            "_view_module": "@jupyter-widgets/base",
            "_view_module_version": "1.2.0",
            "_view_name": "StyleView",
            "description_width": ""
          }
        },
        "c9b23a5835414d78a2265cade29d4c8c": {
          "model_module": "@jupyter-widgets/controls",
          "model_module_version": "1.5.0",
          "model_name": "HBoxModel",
          "state": {
            "_dom_classes": [],
            "_model_module": "@jupyter-widgets/controls",
            "_model_module_version": "1.5.0",
            "_model_name": "HBoxModel",
            "_view_count": null,
            "_view_module": "@jupyter-widgets/controls",
            "_view_module_version": "1.5.0",
            "_view_name": "HBoxView",
            "box_style": "",
            "children": [
              "IPY_MODEL_259959be4ca14b67a79d6014ba089742",
              "IPY_MODEL_e189db7bad29430087a0576e35ab3549",
              "IPY_MODEL_7bf452b880f249ae96751e3572d24dc2"
            ],
            "layout": "IPY_MODEL_0e49c8ca555d43e485ac4c329231023a"
          }
        },
        "d58b68de6c544f8babda263c121bf36f": {
          "model_module": "@jupyter-widgets/controls",
          "model_module_version": "1.5.0",
          "model_name": "HTMLModel",
          "state": {
            "_dom_classes": [],
            "_model_module": "@jupyter-widgets/controls",
            "_model_module_version": "1.5.0",
            "_model_name": "HTMLModel",
            "_view_count": null,
            "_view_module": "@jupyter-widgets/controls",
            "_view_module_version": "1.5.0",
            "_view_name": "HTMLView",
            "description": "",
            "description_tooltip": null,
            "layout": "IPY_MODEL_e0a145043b8a4236b19b220cd9d8e379",
            "placeholder": "​",
            "style": "IPY_MODEL_b6bc273143aa4b2f82ad889f20b6ce84",
            "value": " 124/124 [00:00&lt;00:00, 9.58kB/s]"
          }
        },
        "d66d8dc30bf845f6901354733f6e5bb1": {
          "model_module": "@jupyter-widgets/base",
          "model_module_version": "1.2.0",
          "model_name": "LayoutModel",
          "state": {
            "_model_module": "@jupyter-widgets/base",
            "_model_module_version": "1.2.0",
            "_model_name": "LayoutModel",
            "_view_count": null,
            "_view_module": "@jupyter-widgets/base",
            "_view_module_version": "1.2.0",
            "_view_name": "LayoutView",
            "align_content": null,
            "align_items": null,
            "align_self": null,
            "border": null,
            "bottom": null,
            "display": null,
            "flex": null,
            "flex_flow": null,
            "grid_area": null,
            "grid_auto_columns": null,
            "grid_auto_flow": null,
            "grid_auto_rows": null,
            "grid_column": null,
            "grid_gap": null,
            "grid_row": null,
            "grid_template_areas": null,
            "grid_template_columns": null,
            "grid_template_rows": null,
            "height": null,
            "justify_content": null,
            "justify_items": null,
            "left": null,
            "margin": null,
            "max_height": null,
            "max_width": null,
            "min_height": null,
            "min_width": null,
            "object_fit": null,
            "object_position": null,
            "order": null,
            "overflow": null,
            "overflow_x": null,
            "overflow_y": null,
            "padding": null,
            "right": null,
            "top": null,
            "visibility": null,
            "width": null
          }
        },
        "dc56bd1ca8b440b18e09df52f589b3a5": {
          "model_module": "@jupyter-widgets/controls",
          "model_module_version": "1.5.0",
          "model_name": "DescriptionStyleModel",
          "state": {
            "_model_module": "@jupyter-widgets/controls",
            "_model_module_version": "1.5.0",
            "_model_name": "DescriptionStyleModel",
            "_view_count": null,
            "_view_module": "@jupyter-widgets/base",
            "_view_module_version": "1.2.0",
            "_view_name": "StyleView",
            "description_width": ""
          }
        },
        "e0a145043b8a4236b19b220cd9d8e379": {
          "model_module": "@jupyter-widgets/base",
          "model_module_version": "1.2.0",
          "model_name": "LayoutModel",
          "state": {
            "_model_module": "@jupyter-widgets/base",
            "_model_module_version": "1.2.0",
            "_model_name": "LayoutModel",
            "_view_count": null,
            "_view_module": "@jupyter-widgets/base",
            "_view_module_version": "1.2.0",
            "_view_name": "LayoutView",
            "align_content": null,
            "align_items": null,
            "align_self": null,
            "border": null,
            "bottom": null,
            "display": null,
            "flex": null,
            "flex_flow": null,
            "grid_area": null,
            "grid_auto_columns": null,
            "grid_auto_flow": null,
            "grid_auto_rows": null,
            "grid_column": null,
            "grid_gap": null,
            "grid_row": null,
            "grid_template_areas": null,
            "grid_template_columns": null,
            "grid_template_rows": null,
            "height": null,
            "justify_content": null,
            "justify_items": null,
            "left": null,
            "margin": null,
            "max_height": null,
            "max_width": null,
            "min_height": null,
            "min_width": null,
            "object_fit": null,
            "object_position": null,
            "order": null,
            "overflow": null,
            "overflow_x": null,
            "overflow_y": null,
            "padding": null,
            "right": null,
            "top": null,
            "visibility": null,
            "width": null
          }
        },
        "e189db7bad29430087a0576e35ab3549": {
          "model_module": "@jupyter-widgets/controls",
          "model_module_version": "1.5.0",
          "model_name": "FloatProgressModel",
          "state": {
            "_dom_classes": [],
            "_model_module": "@jupyter-widgets/controls",
            "_model_module_version": "1.5.0",
            "_model_name": "FloatProgressModel",
            "_view_count": null,
            "_view_module": "@jupyter-widgets/controls",
            "_view_module_version": "1.5.0",
            "_view_name": "ProgressView",
            "bar_style": "success",
            "description": "",
            "description_tooltip": null,
            "layout": "IPY_MODEL_fb67b3f46ecf4e6d8b70835cc4ab4bc8",
            "max": 1519984962,
            "min": 0,
            "orientation": "horizontal",
            "style": "IPY_MODEL_896aa2fa154e46b3b9b60755fdd36508",
            "value": 1519984962
          }
        },
        "e8d1fb6085174f2b98a6680dd7aff7a6": {
          "model_module": "@jupyter-widgets/controls",
          "model_module_version": "1.5.0",
          "model_name": "DescriptionStyleModel",
          "state": {
            "_model_module": "@jupyter-widgets/controls",
            "_model_module_version": "1.5.0",
            "_model_name": "DescriptionStyleModel",
            "_view_count": null,
            "_view_module": "@jupyter-widgets/base",
            "_view_module_version": "1.2.0",
            "_view_name": "StyleView",
            "description_width": ""
          }
        },
        "f12a282a16e14d43b79c0fb7fb2aaf32": {
          "model_module": "@jupyter-widgets/controls",
          "model_module_version": "1.5.0",
          "model_name": "ProgressStyleModel",
          "state": {
            "_model_module": "@jupyter-widgets/controls",
            "_model_module_version": "1.5.0",
            "_model_name": "ProgressStyleModel",
            "_view_count": null,
            "_view_module": "@jupyter-widgets/base",
            "_view_module_version": "1.2.0",
            "_view_name": "StyleView",
            "bar_color": null,
            "description_width": ""
          }
        },
        "f8cb7bec16394d8f8ca041ae1f64b246": {
          "model_module": "@jupyter-widgets/controls",
          "model_module_version": "1.5.0",
          "model_name": "HBoxModel",
          "state": {
            "_dom_classes": [],
            "_model_module": "@jupyter-widgets/controls",
            "_model_module_version": "1.5.0",
            "_model_name": "HBoxModel",
            "_view_count": null,
            "_view_module": "@jupyter-widgets/controls",
            "_view_module_version": "1.5.0",
            "_view_name": "HBoxView",
            "box_style": "",
            "children": [
              "IPY_MODEL_8375b4ebbe3f4337b94b438f0f53538d",
              "IPY_MODEL_957fc3b100194ad18c23f6398f51c4d6",
              "IPY_MODEL_a7918fbe46364fd596fee31c8d00cebe"
            ],
            "layout": "IPY_MODEL_877d4018c9d84c1c8b5fc9b833f483dd"
          }
        },
        "fb67b3f46ecf4e6d8b70835cc4ab4bc8": {
          "model_module": "@jupyter-widgets/base",
          "model_module_version": "1.2.0",
          "model_name": "LayoutModel",
          "state": {
            "_model_module": "@jupyter-widgets/base",
            "_model_module_version": "1.2.0",
            "_model_name": "LayoutModel",
            "_view_count": null,
            "_view_module": "@jupyter-widgets/base",
            "_view_module_version": "1.2.0",
            "_view_name": "LayoutView",
            "align_content": null,
            "align_items": null,
            "align_self": null,
            "border": null,
            "bottom": null,
            "display": null,
            "flex": null,
            "flex_flow": null,
            "grid_area": null,
            "grid_auto_columns": null,
            "grid_auto_flow": null,
            "grid_auto_rows": null,
            "grid_column": null,
            "grid_gap": null,
            "grid_row": null,
            "grid_template_areas": null,
            "grid_template_columns": null,
            "grid_template_rows": null,
            "height": null,
            "justify_content": null,
            "justify_items": null,
            "left": null,
            "margin": null,
            "max_height": null,
            "max_width": null,
            "min_height": null,
            "min_width": null,
            "object_fit": null,
            "object_position": null,
            "order": null,
            "overflow": null,
            "overflow_x": null,
            "overflow_y": null,
            "padding": null,
            "right": null,
            "top": null,
            "visibility": null,
            "width": null
          }
        }
      }
    }
  },
  "nbformat": 4,
  "nbformat_minor": 0
}
