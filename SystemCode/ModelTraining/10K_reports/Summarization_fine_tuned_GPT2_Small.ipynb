{
  "cells": [
    {
      "cell_type": "code",
      "execution_count": null,
      "metadata": {
        "colab": {
          "base_uri": "https://localhost:8080/"
        },
        "id": "_lQgKyFbi5Om",
        "outputId": "3d02b6f7-f3ca-49fb-b047-b45ba25c54f3"
      },
      "outputs": [
        {
          "output_type": "stream",
          "name": "stdout",
          "text": [
            "Mounted at /content/drive\n"
          ]
        }
      ],
      "source": [
        "from google.colab import drive\n",
        "drive.mount('/content/drive')"
      ]
    },
    {
      "cell_type": "code",
      "execution_count": null,
      "metadata": {
        "colab": {
          "base_uri": "https://localhost:8080/",
          "height": 81,
          "referenced_widgets": [
            "51d61b49b7de4813bb3640d180aa1a24",
            "3668b3bed8244b4cbb47b57786961d70",
            "b0dc9d6c7a174ba2bb2142e9fb562806",
            "6d1dfbf021d84c7da0bc89ea29e7038d",
            "101e0fd5835646df83b1ecc3267f3400",
            "16d2f3927dd04f809bcaa170dfecf432",
            "650a56bfaa4640e382c69b14dc79abfb",
            "4b37b87338694e28840167a7b52d5f19",
            "865909eb1b7e449893ba651b20b3d822",
            "2775ea7e16af449bbd93adbea4650cb4",
            "50cc15ad5cf04c9e9c1c3615cb385e06",
            "69755b030a9a4f0098d8cf617f935792",
            "36029174e36d41f8a324d7adff858c50",
            "a5eab8834a8d4b1698b12ab52afbab95",
            "1aaaba9ce815453c820d735f33d663bb",
            "f3a627ac99ce4ff3b3e01234613d198b",
            "0c9b76bf533b4ff0bf700d65d1c00e02",
            "c608e505490949c9814228ec3fcd5c2a",
            "5f57f41454c5485690b690b88f73394e",
            "e22f54a79f8d4446a3c8b79b0768d84b",
            "a1001b22253d4daabf6f30b9aaa018d7",
            "e343b7e081fe4aaaaef556231f33e1e0"
          ]
        },
        "id": "dEkENGIVi5On",
        "outputId": "f0b89f6d-624e-47cb-8e0c-e9e481e78e49"
      },
      "outputs": [
        {
          "output_type": "display_data",
          "data": {
            "text/plain": [
              "model.safetensors:   0%|          | 0.00/548M [00:00<?, ?B/s]"
            ],
            "application/vnd.jupyter.widget-view+json": {
              "version_major": 2,
              "version_minor": 0,
              "model_id": "51d61b49b7de4813bb3640d180aa1a24"
            }
          },
          "metadata": {}
        },
        {
          "output_type": "display_data",
          "data": {
            "text/plain": [
              "generation_config.json:   0%|          | 0.00/124 [00:00<?, ?B/s]"
            ],
            "application/vnd.jupyter.widget-view+json": {
              "version_major": 2,
              "version_minor": 0,
              "model_id": "69755b030a9a4f0098d8cf617f935792"
            }
          },
          "metadata": {}
        }
      ],
      "source": [
        "import os\n",
        "import pandas as pd\n",
        "import torch\n",
        "from torch.utils.data import Dataset, DataLoader\n",
        "from torch.nn.utils.rnn import pad_sequence\n",
        "from sklearn.model_selection import train_test_split\n",
        "from transformers import GPT2LMHeadModel, GPT2Tokenizer\n",
        "\n",
        "# Tokenizer\n",
        "tokenizer = GPT2Tokenizer.from_pretrained(\"gpt2\")\n",
        "# Add padding token\n",
        "tokenizer.pad_token = tokenizer.eos_token  # You can use the end-of-sequence token as the padding token\n",
        "# # Define the maximum input token limit\n",
        "# GPT2_INPUT_TOKEN_LIMIT = 12288  # Adjust as needed\n",
        "\n",
        "# Load and preprocess data\n",
        "# json_directory = \"/content/drive/MyDrive/PLP Project/updated/focus\"\n",
        "json_directory = \"/content/drive/MyDrive/focus\"\n",
        "\n",
        "dfs = [pd.read_json(os.path.join(json_directory, file), encoding='latin-1').dropna(subset=['Gemini Summary']).iloc[:, 1:3] for file in os.listdir(json_directory) if os.path.isfile(os.path.join(json_directory, file))]\n",
        "consolidated_df = pd.concat(dfs, ignore_index=True)\n",
        "\n",
        "# Rename columns\n",
        "consolidated_df = consolidated_df.rename(columns={'Gemini Summary': 'text', 'Section Text': 'ctext'})\n",
        "\n",
        "# Add prefix to source text\n",
        "consolidated_df.ctext = 'summarize: ' + consolidated_df.ctext\n",
        "\n",
        "# Split data into train and validation sets\n",
        "train_data, val_data = train_test_split(consolidated_df, train_size=0.8, random_state=42)\n",
        "\n",
        "# # Calculate the maximum length of target summaries\n",
        "# max_target_length = max(len(summary) for summary in consolidated_df['text'])\n",
        "\n",
        "# # Set max_length slightly higher than the maximum target summary length\n",
        "# max_length = max_target_length + 50  # Adjust the additional length as needed\n",
        "\n",
        "\n",
        "# Define dataset class\n",
        "# Define dataset class\n",
        "class CustomDataset(Dataset):\n",
        "    def __init__(self, data, tokenizer, max_length):\n",
        "        self.data = data\n",
        "        self.tokenizer = tokenizer\n",
        "        self.max_length = max_length\n",
        "\n",
        "    def __len__(self):\n",
        "        return len(self.data)\n",
        "\n",
        "    def __getitem__(self, idx):\n",
        "        input_text = self.data.iloc[idx]['ctext']\n",
        "        target_text = self.data.iloc[idx]['text']\n",
        "\n",
        "        input_encoding = self.tokenizer(input_text, max_length=self.max_length, padding=\"max_length\", truncation=True, return_tensors=\"pt\")\n",
        "        target_encoding = self.tokenizer(target_text, max_length=self.max_length, padding=\"max_length\", truncation=True, return_tensors=\"pt\")\n",
        "\n",
        "        return {\n",
        "            \"input_ids\": input_encoding[\"input_ids\"].squeeze(),\n",
        "            \"attention_mask\": input_encoding[\"attention_mask\"].squeeze(),\n",
        "            \"labels\": target_encoding[\"input_ids\"].squeeze()\n",
        "        }\n",
        "\n",
        "# Create datasets and dataloaders\n",
        "train_dataset = CustomDataset(train_data, tokenizer, max_length=512)\n",
        "val_dataset = CustomDataset(val_data, tokenizer, max_length=512)\n",
        "\n",
        "train_loader = DataLoader(train_dataset, batch_size=2, shuffle=True)\n",
        "val_loader = DataLoader(val_dataset, batch_size=2, shuffle=False)\n",
        "\n",
        "# Fine-tune the model\n",
        "model = GPT2LMHeadModel.from_pretrained(\"gpt2\")\n",
        "# model = GPT2LMHeadModel.from_pretrained(\"gpt2-medium\")  # Load GPT-2 Medium instead of base GPT-2\n",
        "\n",
        "# Model configuration for sequence-to-sequence task\n",
        "model.resize_token_embeddings(len(tokenizer))\n",
        "\n",
        "# Define optimizer and loss function\n",
        "optimizer = torch.optim.AdamW(model.parameters(), lr=1e-4)\n",
        "loss_fn = torch.nn.CrossEntropyLoss()\n"
      ]
    },
    {
      "cell_type": "code",
      "execution_count": null,
      "metadata": {
        "colab": {
          "base_uri": "https://localhost:8080/"
        },
        "id": "V-8xQz8Oi5On",
        "outputId": "5bdcdc88-23e7-4275-f72d-90213b6b41f4"
      },
      "outputs": [
        {
          "output_type": "stream",
          "name": "stdout",
          "text": [
            "Using device: cuda\n"
          ]
        }
      ],
      "source": [
        "# Check if GPU is available and set the device accordingly\n",
        "device = torch.device(\"cuda\" if torch.cuda.is_available() else \"cpu\")\n",
        "\n",
        "# Move model to the selected device\n",
        "model.to(device)\n",
        "\n",
        "# Print the device\n",
        "print(f\"Using device: {device}\")\n"
      ]
    },
    {
      "cell_type": "markdown",
      "metadata": {
        "id": "zQAIGwv8i5Oo"
      },
      "source": [
        "### Incorporate ROUGE Scores generation during epoch training"
      ]
    },
    {
      "cell_type": "code",
      "execution_count": null,
      "metadata": {
        "colab": {
          "base_uri": "https://localhost:8080/"
        },
        "id": "3U-NAhrFi5Oo",
        "outputId": "1eb252bb-d125-406d-d4ab-5dc90eaff18f"
      },
      "outputs": [
        {
          "output_type": "stream",
          "name": "stdout",
          "text": [
            "Collecting rouge-score\n",
            "  Downloading rouge_score-0.1.2.tar.gz (17 kB)\n",
            "  Preparing metadata (setup.py) ... \u001b[?25l\u001b[?25hdone\n",
            "Requirement already satisfied: absl-py in /usr/local/lib/python3.10/dist-packages (from rouge-score) (1.4.0)\n",
            "Requirement already satisfied: nltk in /usr/local/lib/python3.10/dist-packages (from rouge-score) (3.8.1)\n",
            "Requirement already satisfied: numpy in /usr/local/lib/python3.10/dist-packages (from rouge-score) (1.25.2)\n",
            "Requirement already satisfied: six>=1.14.0 in /usr/local/lib/python3.10/dist-packages (from rouge-score) (1.16.0)\n",
            "Requirement already satisfied: click in /usr/local/lib/python3.10/dist-packages (from nltk->rouge-score) (8.1.7)\n",
            "Requirement already satisfied: joblib in /usr/local/lib/python3.10/dist-packages (from nltk->rouge-score) (1.4.0)\n",
            "Requirement already satisfied: regex>=2021.8.3 in /usr/local/lib/python3.10/dist-packages (from nltk->rouge-score) (2023.12.25)\n",
            "Requirement already satisfied: tqdm in /usr/local/lib/python3.10/dist-packages (from nltk->rouge-score) (4.66.2)\n",
            "Building wheels for collected packages: rouge-score\n",
            "  Building wheel for rouge-score (setup.py) ... \u001b[?25l\u001b[?25hdone\n",
            "  Created wheel for rouge-score: filename=rouge_score-0.1.2-py3-none-any.whl size=24933 sha256=61264377570bafeb0a7f99953924725477b39af6ecab3a0934e580bce0339fb1\n",
            "  Stored in directory: /root/.cache/pip/wheels/5f/dd/89/461065a73be61a532ff8599a28e9beef17985c9e9c31e541b4\n",
            "Successfully built rouge-score\n",
            "Installing collected packages: rouge-score\n",
            "Successfully installed rouge-score-0.1.2\n"
          ]
        }
      ],
      "source": [
        "# Installing packages\n",
        "!pip install rouge-score\n",
        "\n",
        "import datetime\n",
        "from openpyxl import Workbook, load_workbook\n",
        "\n",
        "\n",
        "# Preprocessing summaries before comparison\n",
        "def rouge_preprocessing (summary_text):\n",
        "    # Convert to lowercase\n",
        "    summary_text_lower = summary_text.lower()\n",
        "    # Remove punctuation\n",
        "    summary_text_no_punctuation = re.sub(r'[^\\w\\s]', '', summary_text_lower)\n",
        "    # Tokenize the text\n",
        "    summary_text_tokens = word_tokenize(summary_text_no_punctuation)\n",
        "\n",
        "    # Remove stopwords\n",
        "    stop_words = set(stopwords.words('english'))\n",
        "    summary_text_filtered = [word for word in summary_text_tokens if word not in stop_words]\n",
        "\n",
        "    # Optionally perform stemming or lemmatization\n",
        "\n",
        "    # Join the tokens back into a string\n",
        "    summary_text_processed = ' '.join(summary_text_filtered)\n",
        "\n",
        "    return summary_text_processed\n",
        "\n",
        "# Generate rouge scores from summaries\n",
        "from rouge_score import rouge_scorer\n",
        "\n",
        "def generate_rouge_scores (reference_summary, candidate_summary):\n",
        "    # Initialize Rouge scorer\n",
        "    scorer = rouge_scorer.RougeScorer(['rouge1', 'rouge2', 'rougeL'], use_stemmer=True)\n",
        "\n",
        "    # Compute Rouge scores\n",
        "    scores = scorer.score(candidate_summary, reference_summary)\n",
        "\n",
        "    # Unpack scores dictionary and return individual metrics\n",
        "    rouge1_precision = scores['rouge1'].precision\n",
        "    rouge1_recall = scores['rouge1'].recall\n",
        "    rouge1_fmeasure = scores['rouge1'].fmeasure\n",
        "\n",
        "    rouge2_precision = scores['rouge2'].precision\n",
        "    rouge2_recall = scores['rouge2'].recall\n",
        "    rouge2_fmeasure = scores['rouge2'].fmeasure\n",
        "\n",
        "    rougeL_precision = scores['rougeL'].precision\n",
        "    rougeL_recall = scores['rougeL'].recall\n",
        "    rougeL_fmeasure = scores['rougeL'].fmeasure\n",
        "\n",
        "    return rouge1_precision, rouge1_recall, rouge1_fmeasure, \\\n",
        "           rouge2_precision, rouge2_recall, rouge2_fmeasure, \\\n",
        "           rougeL_precision, rougeL_recall, rougeL_fmeasure\n",
        "\n",
        "# Export ROUGE Scores to Excel\n",
        "# Function to create or load workbook and add data\n",
        "def update_rouge_excel(output_directory, rouge_scores_list):\n",
        "    # Create directory if it doesn't exist\n",
        "    os.makedirs(os.path.dirname(output_directory), exist_ok=True)\n",
        "\n",
        "    # Define file path\n",
        "    file_path = f\"{output_directory}.xlsx\"\n",
        "\n",
        "    try:\n",
        "        # Load existing workbook\n",
        "        workbook = load_workbook(file_path)\n",
        "        worksheet = workbook.active\n",
        "    except FileNotFoundError:\n",
        "        # If workbook doesn't exist, create a new one\n",
        "        workbook = Workbook()\n",
        "        worksheet = workbook.active\n",
        "        # Add headers to the first row\n",
        "        header = [\"rouge1_precision\", \"rouge1_recall\", \"rouge1_fmeasure\", \"rouge2_precision\",\n",
        "                  \"rouge2_recall\", \"rouge2_fmeasure\", \"rougeL_precision\", \"rougeL_recall\", \"rougeL_fmeasure\", \"rougeL_sum\"\n",
        "                 ]\n",
        "        worksheet.append(header)\n",
        "\n",
        "    for rouge_scores in rouge_scores_list:\n",
        "        # Calculate Rouge-L sum score\n",
        "        rougeL_sum = rouge_scores[6] + rouge_scores[7] + rouge_scores[8]  # Sum of Rouge-L precision, recall, and F-measure\n",
        "        worksheet.append(rouge_scores + (rougeL_sum,))\n",
        "    workbook.save(file_path)\n"
      ]
    },
    {
      "cell_type": "code",
      "execution_count": null,
      "metadata": {
        "id": "ird80C4Fi5Oo"
      },
      "outputs": [],
      "source": [
        "# Specify the path to the JSON folder\n",
        "# json_directory = \"/content/drive/MyDrive/PLP Project/updated/focus/model_1\"\n",
        "json_directory = \"/content/drive/MyDrive/focus/model_3\"\n",
        "\n",
        "# Create excel file named GPT2_finetuned_rouge_score if it does not exist\n",
        "# Headers to consist of file_name, item_number, 9 rouge scores values from generate_rouge_scores function\n",
        "output_file_name = 'GPT2_finetuned_rouge_score'\n",
        "output_directory = os.path.join(json_directory, output_file_name)\n"
      ]
    },
    {
      "cell_type": "code",
      "execution_count": null,
      "metadata": {
        "colab": {
          "base_uri": "https://localhost:8080/"
        },
        "id": "SRm6HcuHi5Oo",
        "outputId": "52feb57f-8097-478a-e08e-1cc85ad8d860"
      },
      "outputs": [
        {
          "output_type": "stream",
          "name": "stderr",
          "text": [
            "[nltk_data] Downloading package punkt to /root/nltk_data...\n",
            "[nltk_data]   Package punkt is already up-to-date!\n",
            "[nltk_data] Downloading package stopwords to /root/nltk_data...\n",
            "[nltk_data]   Package stopwords is already up-to-date!\n",
            "Epoch 1: 100%|██████████| 516/516 [03:46<00:00,  2.28it/s, loss=2.91]\n"
          ]
        },
        {
          "output_type": "stream",
          "name": "stdout",
          "text": [
            "Epoch 1, Average Train Loss: 3.1626, Average Val Loss: 2.8732\n"
          ]
        },
        {
          "output_type": "stream",
          "name": "stderr",
          "text": [
            "Epoch 2: 100%|██████████| 516/516 [03:46<00:00,  2.28it/s, loss=3.27]\n"
          ]
        },
        {
          "output_type": "stream",
          "name": "stdout",
          "text": [
            "Epoch 2, Average Train Loss: 2.8425, Average Val Loss: 2.7828\n"
          ]
        },
        {
          "output_type": "stream",
          "name": "stderr",
          "text": [
            "Epoch 3: 100%|██████████| 516/516 [03:48<00:00,  2.26it/s, loss=1.23]\n"
          ]
        },
        {
          "output_type": "stream",
          "name": "stdout",
          "text": [
            "Epoch 3, Average Train Loss: 2.7622, Average Val Loss: 2.7581\n"
          ]
        },
        {
          "output_type": "stream",
          "name": "stderr",
          "text": [
            "Epoch 4: 100%|██████████| 516/516 [03:48<00:00,  2.26it/s, loss=2.7]\n"
          ]
        },
        {
          "output_type": "stream",
          "name": "stdout",
          "text": [
            "Epoch 4, Average Train Loss: 2.6822, Average Val Loss: 2.7603\n"
          ]
        },
        {
          "output_type": "stream",
          "name": "stderr",
          "text": [
            "Epoch 5: 100%|██████████| 516/516 [03:49<00:00,  2.25it/s, loss=4.23]\n"
          ]
        },
        {
          "output_type": "stream",
          "name": "stdout",
          "text": [
            "Epoch 5, Average Train Loss: 2.6279, Average Val Loss: 2.7167\n"
          ]
        },
        {
          "output_type": "stream",
          "name": "stderr",
          "text": [
            "Epoch 6: 100%|██████████| 516/516 [03:49<00:00,  2.25it/s, loss=2.94]\n"
          ]
        },
        {
          "output_type": "stream",
          "name": "stdout",
          "text": [
            "Epoch 6, Average Train Loss: 2.5661, Average Val Loss: 2.7175\n"
          ]
        },
        {
          "output_type": "stream",
          "name": "stderr",
          "text": [
            "Epoch 7: 100%|██████████| 516/516 [03:49<00:00,  2.25it/s, loss=2.08]\n"
          ]
        },
        {
          "output_type": "stream",
          "name": "stdout",
          "text": [
            "Epoch 7, Average Train Loss: 2.5140, Average Val Loss: 2.6995\n"
          ]
        },
        {
          "output_type": "stream",
          "name": "stderr",
          "text": [
            "Epoch 8: 100%|██████████| 516/516 [03:50<00:00,  2.24it/s, loss=1.02]\n"
          ]
        },
        {
          "output_type": "stream",
          "name": "stdout",
          "text": [
            "Epoch 8, Average Train Loss: 2.4640, Average Val Loss: 2.7690\n"
          ]
        },
        {
          "output_type": "stream",
          "name": "stderr",
          "text": [
            "Epoch 9: 100%|██████████| 516/516 [03:50<00:00,  2.24it/s, loss=0.909]\n"
          ]
        },
        {
          "output_type": "stream",
          "name": "stdout",
          "text": [
            "Epoch 9, Average Train Loss: 2.4141, Average Val Loss: 2.7704\n"
          ]
        },
        {
          "output_type": "stream",
          "name": "stderr",
          "text": [
            "Epoch 10: 100%|██████████| 516/516 [03:49<00:00,  2.24it/s, loss=3.05]\n"
          ]
        },
        {
          "output_type": "stream",
          "name": "stdout",
          "text": [
            "Epoch 10, Average Train Loss: 2.3549, Average Val Loss: 2.8181\n"
          ]
        }
      ],
      "source": [
        "from tqdm import tqdm\n",
        "import re  # Import the re module for regular expressions\n",
        "from nltk.tokenize import word_tokenize  # Import the word_tokenize function from nltk\n",
        "import nltk  # Import the nltk library\n",
        "nltk.download('punkt')\n",
        "nltk.download('stopwords')\n",
        "from nltk.corpus import stopwords  # Import the stopwords from nltk\n",
        "\n",
        "# Create an empty list to store generated outputs\n",
        "generated_outputs_train = []\n",
        "generated_outputs_val = []\n",
        "# Initialize empty lists to store ROUGE scores\n",
        "rouge_scores_train = []\n",
        "rouge_scores_val = []\n",
        "\n",
        "# Training loop\n",
        "for epoch in range(10):  # TRAIN_EPOCHS\n",
        "    model.train()\n",
        "    total_loss = 0.0\n",
        "    progress_bar = tqdm(enumerate(train_loader), total=len(train_loader), desc=f\"Epoch {epoch+1}\")\n",
        "    for batch_idx, batch in progress_bar:\n",
        "        optimizer.zero_grad()\n",
        "        input_ids = batch[\"input_ids\"].to(device)\n",
        "        attention_mask = batch[\"attention_mask\"].to(device)\n",
        "        labels = batch[\"labels\"].to(device)\n",
        "        outputs = model(input_ids=input_ids, attention_mask=attention_mask, labels=labels)\n",
        "        loss = outputs.loss\n",
        "        loss.backward()\n",
        "        optimizer.step()\n",
        "\n",
        "        total_loss += loss.item()\n",
        "        progress_bar.set_postfix({\"loss\": loss.item()})\n",
        "\n",
        "        # Generate outputs and store them\n",
        "        generated_texts = [tokenizer.decode(output, skip_special_tokens=True) for output in outputs.logits.argmax(dim=-1)]\n",
        "        generated_outputs_train.extend(generated_texts)\n",
        "\n",
        "        # Calculate ROUGE scores\n",
        "        for generated_summary, reference_summary in zip(generated_texts, labels):  # Use labels as reference summaries\n",
        "            reference_summary_processed = rouge_preprocessing(tokenizer.decode(reference_summary, skip_special_tokens=True))  # Decode labels to text\n",
        "            generated_summary_processed = rouge_preprocessing(generated_summary)\n",
        "            rouge_scores = generate_rouge_scores(reference_summary_processed, generated_summary_processed)\n",
        "            rouge_scores_train.append(rouge_scores)\n",
        "\n",
        "    # Validation loop\n",
        "    model.eval()\n",
        "    total_val_loss = 0.0\n",
        "    for batch_idx, batch in enumerate(val_loader):\n",
        "        with torch.no_grad():\n",
        "            input_ids = batch[\"input_ids\"].to(device)\n",
        "            attention_mask = batch[\"attention_mask\"].to(device)\n",
        "            labels = batch[\"labels\"].to(device)\n",
        "            outputs = model(input_ids=input_ids, attention_mask=attention_mask, labels=labels)\n",
        "            val_loss = outputs.loss\n",
        "            total_val_loss += val_loss.item()\n",
        "\n",
        "            # Generate outputs and store them\n",
        "            generated_texts = [tokenizer.decode(output, skip_special_tokens=True) for output in outputs.logits.argmax(dim=-1)]\n",
        "            generated_outputs_val.extend(generated_texts)\n",
        "\n",
        "            # Calculate ROUGE scores\n",
        "            for generated_summary, reference_summary in zip(generated_texts, labels):  # Use labels as reference summaries\n",
        "                reference_summary_processed = rouge_preprocessing(tokenizer.decode(reference_summary, skip_special_tokens=True))  # Decode labels to text\n",
        "                generated_summary_processed = rouge_preprocessing(generated_summary)\n",
        "                rouge_scores = generate_rouge_scores(reference_summary_processed, generated_summary_processed)\n",
        "                rouge_scores_val.append(rouge_scores)\n",
        "\n",
        "    avg_train_loss = total_loss / len(train_loader)\n",
        "    avg_val_loss = total_val_loss / len(val_loader)\n",
        "    print(f\"Epoch {epoch+1}, Average Train Loss: {avg_train_loss:.4f}, Average Val Loss: {avg_val_loss:.4f}\")\n",
        "\n",
        "# Add generated outputs as new columns to consolidated_df\n",
        "train_data[\"generated_output\"] = generated_outputs_train[:len(train_data)]  # Ensure length matches train_data\n",
        "val_data[\"generated_output\"] = generated_outputs_val[:len(val_data)]  # Ensure length matches val_data\n",
        "\n",
        "# Add the generated ROUGE scores to an Excel file\n",
        "update_rouge_excel(output_directory, rouge_scores_train)\n",
        "update_rouge_excel(output_directory, rouge_scores_val)\n",
        "\n",
        "# Save consolidated_df to a JSON file\n",
        "# Save consolidated_df to a JSON file\n",
        "# consolidated_df[\"generated_output\"] = generated_outputs_train + generated_outputs_val  # Combine train and validation generated outputs\n",
        "# consolidated_df.to_json(\"output_with_generated.json\", orient=\"records\", lines=True)  # Save the DataFrame to JSON\n"
      ]
    },
    {
      "cell_type": "code",
      "source": [
        "# Take the last 1032 generated outputs for train_data\n",
        "train_data[\"generated_output\"] = generated_outputs_train[-1032:]\n",
        "\n",
        "# Take the last 259 generated outputs for val_data\n",
        "val_data[\"generated_output\"] = generated_outputs_val[-259:]\n",
        "\n",
        "# Combine train_data and val_data into a single Dataframe\n",
        "consolidated_df = pd.concat([train_data, val_data], ignore_index = True)\n",
        "\n",
        "# Save consolidated_df to a JSON file\n",
        "consolidated_df.to_json(\"output_with_generated.json\", orient=\"records\", lines=True)"
      ],
      "metadata": {
        "id": "TqReC2arPnR8"
      },
      "execution_count": null,
      "outputs": []
    },
    {
      "cell_type": "code",
      "execution_count": null,
      "metadata": {
        "id": "5mv0KA-Ai5Oo"
      },
      "outputs": [],
      "source": [
        "# Define the directory path where you want to save the model\n",
        "# model_directory = \"/content/drive/MyDrive/PLP Project/updated/focus/model_1\"\n",
        "model_directory = \"/content/drive/MyDrive/focus/model_3\"\n",
        "\n",
        "\n",
        "# Create the directory if it doesn't exist\n",
        "if not os.path.exists(model_directory):\n",
        "    os.makedirs(model_directory)\n",
        "\n",
        "# Save the model\n",
        "model.save_pretrained(model_directory)"
      ]
    },
    {
      "cell_type": "code",
      "source": [
        "# Access the original text and target summary for the first sample in the training data\n",
        "original_text_train = train_data.iloc[0]['ctext']\n",
        "target_summary_train = train_data.iloc[0]['text']\n",
        "\n",
        "# Access the original text and target summary for the first sample in the validation data\n",
        "original_text_val = val_data.iloc[0]['ctext']\n",
        "target_summary_val = val_data.iloc[0]['text']\n",
        "\n",
        "# Print the original text and target summary for the first sample in the training data\n",
        "# print(\"Original Text (Training):\", original_text_train)\n",
        "print(\"Target Summary (Training):\", target_summary_train)\n",
        "\n",
        "# # Print the original text and target summary for the first sample in the validation data\n",
        "# print(\"Original Text (Validation):\", original_text_val)\n",
        "# print(\"Target Summary (Validation):\", target_summary_val)\n"
      ],
      "metadata": {
        "colab": {
          "base_uri": "https://localhost:8080/"
        },
        "id": "6EyLKFlNyk7v",
        "outputId": "d86aa75b-d21c-49ed-e336-12b506c3e0d3"
      },
      "execution_count": null,
      "outputs": [
        {
          "output_type": "stream",
          "name": "stdout",
          "text": [
            "Target Summary (Training): **Summary of Amazon.com, Inc. Financial Statements and Supplementary Data**\n",
            "\n",
            "**Item 8: Consolidated Financial Statements and Supplementary Data**\n",
            "\n",
            "**Financial Statements:**\n",
            "\n",
            "* Consolidated Statements of Cash Flows\n",
            "* Consolidated Statements of Operations\n",
            "* Consolidated Statements of Comprehensive Income (Loss)\n",
            "* Consolidated Balance Sheets\n",
            "* Consolidated Statements of Stockholders' Equity\n",
            "\n",
            "**Supplementary Data:**\n",
            "\n",
            "* Notes to Consolidated Financial Statements\n",
            "\n",
            "**Key Financials:**\n",
            "\n",
            "**Revenue:**\n",
            "* 2020: $215,915 million\n",
            "* 2021: $241,787 million\n",
            "* 2022: $242,901 million\n",
            "\n",
            "**Operating Income:**\n",
            "* 2020: $22,899 million\n",
            "* 2021: $24,879 million\n",
            "* 2022: $12,248 million\n",
            "\n",
            "**Net Income (Loss):**\n",
            "* 2020: $21,331 million\n",
            "* 2021: $33,364 million\n",
            "* 2022: $(2,722) million\n",
            "\n",
            "**Adjusted EBITDA:**\n",
            "* 2020: $39.7 billion\n",
            "* 2021: $44.2 billion\n",
            "* 2022: $55.8 billion\n",
            "\n",
            "**Key Metrics:**\n",
            "\n",
            "* **Diluted EPS:**\n",
            "    * 2020: $2.09\n",
            "    * 2021: $3.24\n",
            "    * 2022: $(0.27)\n",
            "* **Operating Margin:**\n",
            "    * 2020: 10.6%\n",
            "    * 2021: 10.3%\n",
            "    * 2022: 5.0%\n",
            "* **Free Cash Flow:**\n",
            "    * 2020: $26.9 billion\n",
            "    * 2021: $35.2 billion\n",
            "    * 2022: $12.3 billion\n",
            "\n",
            "**Business Segments:**\n",
            "\n",
            "* North America\n",
            "* International\n",
            "* Amazon Web Services (AWS)\n",
            "\n",
            "**Other Highlights:**\n",
            "\n",
            "* Amazon has invested heavily in its AWS cloud computing business, which has been a major driver of growth and profitability.\n",
            "* The company also operates a retail segment that sells a wide range of products online and through physical stores.\n",
            "* Amazon's other businesses include advertising, healthcare, and logistics.\n",
            "* The company has faced antitrust scrutiny in recent years, with regulators investigating its dominance in the e-commerce and cloud computing markets. **Patent Lawsuits**\n",
            "\n",
            "**Eolas Technologies, Inc. v. Amazon.com, Inc.**\n",
            "\n",
            "* Patent No. 9,195,507, \"Distributed Hypermedia Method and System for Automatically Invoking External Application Providing Interaction and Display of Embedded Objects Within a Hypermedia Document\"\n",
            "* Filed in February 2016, amended in February 2017\n",
            "* Amazon disputed allegations and intended to defend itself vigorously\n",
            "* District court granted summary judgment in May 2022, holding the patent invalid\n",
            "* Eolas filed a notice of appeal in June 2022\n",
            "\n",
            "**Rensselaer Polytechnic Institute and CF Dynamic Advances LLC v. Amazon.com, Inc.**\n",
            "\n",
            "* Patent No. 7,177,798, \"Natural Language Interface Using Constrained Intermediate Dictionary of Results\"\n",
            "* Filed in May 2018\n",
            "* Amazon disputed allegations and intended to defend itself vigorously\n",
            "\n",
            "**Kove IO, Inc. v. Amazon Web Services, Inc.**\n",
            "\n",
            "* Patent Nos. 7,814,170, 7,103,640, and 7,233,978\n",
            "* Filed in December 2018\n",
            "* Case stayed in March 2022 pending resolution of review petitions\n",
            "* Stay lifted in November 2022\n",
            "* Amazon disputed allegations and intended to defend itself vigorously\n",
            "\n",
            "**Private Antitrust Lawsuits**\n",
            "\n",
            "* Filed in the U.S. and Canada alleging price fixing and antitrust violations\n",
            "* Beginning in March 2020, a series of cases were filed by private litigants\n",
            "* Attorneys General for the District of Columbia and California also brought similar suits\n",
            "* Amazon disputed allegations and intended to defend itself vigorously\n",
            "* In March 2022 and January 2023, Amazon's motions to dismiss were granted in part and denied in part\n",
            "* The DC Superior Court dismissed the DC Attorney General's lawsuit in March 2022\n",
            "\n",
            "**BroadbandiTV, Inc. v. Amazon.com, Inc.**\n",
            "\n",
            "* Patent Nos. 9,648,388, 10,546,750, 10,536,751, 10,028,026, and 9,973,825\n",
            "* Filed in October 2020\n",
            "* Amazon disputed allegations and intended to defend itself vigorously\n",
            "* District court granted summary judgment in September 2022, holding the patents invalid\n",
            "* BroadbandiTV filed a notice of appeal in October 2022\n",
            "\n",
            "**Competition and Regulatory Investigations**\n",
            "\n",
            "**European Commission**\n",
            "\n",
            "* Issued a Statement of Objections in November 2020, alleging that Amazon uses data relating to marketplace sellers in a manner that infringes EU competition rules\n",
            "* Settled in December 2022 without fines, fully resolving the investigation\n",
            "\n",
            "**Luxembourg National Commission for Data Protection (CNPD)**\n",
            "\n",
            "* Issued a decision in July 2021, claiming that Amazon's data processing did not comply with EU General Data Protection Regulation\n",
            "* Imposed a €746 million fine\n",
            "* Amazon believes the decision to be without merit and intended to defend itself vigorously\n",
            "\n",
            "**Italian Competition Authority (ICA)**\n",
            "\n",
            "* Issued a decision in December 2021, claiming that certain Amazon marketplace and logistics practices in Italy infringed EU competition rules\n",
            "* Imposed a €1.13 billion fine\n",
            "* Amazon believes the decision to be without merit and intended to defend itself vigorously\n",
            "\n",
            "**Acceleration Bay, LLC v. Amazon Web Services, Inc.**\n",
            "\n",
            "* Patent Nos. 6,701,344, 6,714,966, 6,732,147, 6,829,634, and 6,910,069\n",
            "* Filed in July 2022\n",
            "* Amazon disputed allegations and intended to defend itself vigorously\n",
            "\n",
            "**LightGuide, Inc. v. Amazon.com, Inc.**\n",
            "\n",
            "* Patent Nos. 7,515,981, 9,658,614, and 10,528,036\n",
            "* Filed in November 2022\n",
            "* Amazon disputed allegations and intended to defend itself vigorously\n",
            "\n",
            "**Amazon Faces Multiple Legal Challenges and Investigations**\n",
            "\n",
            "Amazon is facing various legal and regulatory challenges related to its business practices, including patent infringement lawsuits, antitrust allegations, and competition investigations. The company intends to defend itself vigorously in these matters.\n"
          ]
        }
      ]
    },
    {
      "cell_type": "code",
      "source": [
        "print(generated_outputs_train[0])  # Print the first generated summary in the training set\n"
      ],
      "metadata": {
        "colab": {
          "base_uri": "https://localhost:8080/"
        },
        "id": "Dn8jqiq3yJNQ",
        "outputId": "d02c95d6-9d96-48b9-a84b-ae970cd4d87a"
      },
      "execution_count": null,
      "outputs": [
        {
          "output_type": "stream",
          "name": "stdout",
          "text": [
            "-x\" \":,0:\n",
            "\n",
            " first goal officer is in the, PA York, is headquarters in in Newo, New, and have which\n",
            " are have, and located principal important shareholders officers.\n",
            "We addition with our this operating, and, marketing our products and we of of atheuring and distribution, andling, packaging facilities. and, and centers, and facilities, andandices, and the stores, and and development,, facilities facilities.\n",
            " of which we locatedowned located or controlled by\n",
            "Weificant business are our include\n",
            " follows:\n",
            "\n",
            ": Property Locationed PropertyOwnased\n",
            "\n",
            "O\n",
            " and Development facilities\n",
            "o, Texas,ed/\n",
            "west Research,crete\n",
            " distribution\n",
            " City, Texas Owned\n",
            "\n",
            "& Con and development facility Plan, New York Owned\n",
            "PBNA Researchrated, and, Iowa Owned\n",
            "PBitude,venient food plant Austineste, Texas Owned\n",
            "PBAm Con- food plant Celerojo, California Owned\n",
            "Lat Twovenient food plant Cel, New Kingdom Owned\n",
            "and)\n",
            "Q Europevenient food plant plantima, Mexico Owned\n",
            "Europe Con facility Kman,, Russia Owned\n",
            "Europe Con plant,, Russia Owned\n",
            "Europe Con Convenient food plant Le, Russia Own Owned\n",
            "a)\n",
            "EuropeA Convenient food plant Sh, China Owned\n",
            "b)\n",
            "APNA Con IncFNA Con QNA, PBAm, China,\n",
            "\n",
            ", Own, Mexico Ownased\n",
            "\n",
            "NA, LatAm,rate plant Valenciaville, New Owned\n",
            "a)\n",
            "FLNA, Lat Con Europe,, convenient facilities,, Ireland Owned\n",
            "APNA, LatESA Two CorporateAC Conrate plant Cork,ed\n",
            "a)\n",
            "APiance are service center,abad, India Ownased\n",
            "PAa)\n",
            " company of which we facilities are located is owned to\n",
            "The of the properties are owned by leased by a lease-term lease.\n",
            " addition, the-owned and leased properties,We above, we have own a number- system of distribution. which, distribution centers. are\n",
            " located and leased by our subsidiaries partners. and-operers, distributors partners, other ventures.- we haveare a interest stake.\n",
            " also that\n",
            "\n",
            " are are more good standing condition, that therefore as a wholefactole, we in for and for suitable good for to the business and.\n",
            "We\n",
            "\n",
            " of Contents\n",
            "The\n",
            "TheTheTheTheTheTheTheThe\n",
            "TheTheTheThe\n"
          ]
        }
      ]
    },
    {
      "cell_type": "code",
      "source": [
        "print(generated_outputs_val[0])    # Print the first generated summary in the validation set\n"
      ],
      "metadata": {
        "colab": {
          "base_uri": "https://localhost:8080/"
        },
        "id": "bRq2u_HhyK9J",
        "outputId": "9c53299b-2322-4e9b-f02b-746f9013283c"
      },
      "execution_count": null,
      "outputs": [
        {
          "output_type": "stream",
          "name": "stdout",
          "text": [
            " of of reserved******** the the,,,,, stock stock,,,,,,,,,, $ in,.,.. stock,, in the,,,,, the, to\n"
          ]
        }
      ]
    },
    {
      "cell_type": "code",
      "source": [
        "import pandas as pd\n",
        "\n",
        "# Read the JSON file into a DataFrame\n",
        "df = pd.read_json(\"/content/output_with_generated.json\", lines=True)\n",
        "\n",
        "# Now you can work with the DataFrame 'df'\n",
        "print(df.head())  # Display the first few rows of the DataFrame\n"
      ],
      "metadata": {
        "colab": {
          "base_uri": "https://localhost:8080/"
        },
        "id": "7NnxDv10znE_",
        "outputId": "5844645c-f264-4f1a-a65c-feecba34cf49"
      },
      "execution_count": null,
      "outputs": [
        {
          "output_type": "stream",
          "name": "stdout",
          "text": [
            "                                               ctext  \\\n",
            "0  summarize: Item 8. Financial Statements and Su...   \n",
            "1  summarize: Item 2. Properties.\\nOur principal ...   \n",
            "2  summarize: ITEM 1A. Risk Factors.\\nWe have lis...   \n",
            "3  summarize: ITEM 8. FINANCIAL STATEMENTS AND SU...   \n",
            "4  summarize: ITEM 1A. RISK FACTORS\\nCAUTIONARY S...   \n",
            "\n",
            "                                                text  \\\n",
            "0  **Summary of Amazon.com, Inc. Financial Statem...   \n",
            "1  PepsiCo's significant corporate properties inc...   \n",
            "2  Ford and Ford Credit face operational risks fr...   \n",
            "3  The financial section of the report presents:\\...   \n",
            "4  **Summary of Risk Factors**\\n\\nUnitedHealth Gr...   \n",
            "\n",
            "                                    generated_output  \n",
            "0   company of reserved**\\n safetyosures Dis not ...  \n",
            "1   company of the**\\n\\n********\\n****\\n**.\\n**\\n...  \n",
            "2   6 of**\\n\\n****\\n**\\n\\n******\\n\\n\\n\\n\\n\\n\\n\\n*...  \n",
            "3   of of.\\n\\n\\n\\n\\n**\\n\\n\\n\\n\\n\\n,isks and,\\n\\n,...  \n",
            "4   6 of****\\n\\n\\n\\n**\\n\\n**\\n\\n\\n**\\n\\n\\n\\n\\n\\n\\...  \n"
          ]
        }
      ]
    }
  ],
  "metadata": {
    "language_info": {
      "name": "python"
    },
    "colab": {
      "provenance": [],
      "gpuType": "T4"
    },
    "kernelspec": {
      "name": "python3",
      "display_name": "Python 3"
    },
    "accelerator": "GPU",
    "widgets": {
      "application/vnd.jupyter.widget-state+json": {
        "51d61b49b7de4813bb3640d180aa1a24": {
          "model_module": "@jupyter-widgets/controls",
          "model_name": "HBoxModel",
          "model_module_version": "1.5.0",
          "state": {
            "_dom_classes": [],
            "_model_module": "@jupyter-widgets/controls",
            "_model_module_version": "1.5.0",
            "_model_name": "HBoxModel",
            "_view_count": null,
            "_view_module": "@jupyter-widgets/controls",
            "_view_module_version": "1.5.0",
            "_view_name": "HBoxView",
            "box_style": "",
            "children": [
              "IPY_MODEL_3668b3bed8244b4cbb47b57786961d70",
              "IPY_MODEL_b0dc9d6c7a174ba2bb2142e9fb562806",
              "IPY_MODEL_6d1dfbf021d84c7da0bc89ea29e7038d"
            ],
            "layout": "IPY_MODEL_101e0fd5835646df83b1ecc3267f3400"
          }
        },
        "3668b3bed8244b4cbb47b57786961d70": {
          "model_module": "@jupyter-widgets/controls",
          "model_name": "HTMLModel",
          "model_module_version": "1.5.0",
          "state": {
            "_dom_classes": [],
            "_model_module": "@jupyter-widgets/controls",
            "_model_module_version": "1.5.0",
            "_model_name": "HTMLModel",
            "_view_count": null,
            "_view_module": "@jupyter-widgets/controls",
            "_view_module_version": "1.5.0",
            "_view_name": "HTMLView",
            "description": "",
            "description_tooltip": null,
            "layout": "IPY_MODEL_16d2f3927dd04f809bcaa170dfecf432",
            "placeholder": "​",
            "style": "IPY_MODEL_650a56bfaa4640e382c69b14dc79abfb",
            "value": "model.safetensors: 100%"
          }
        },
        "b0dc9d6c7a174ba2bb2142e9fb562806": {
          "model_module": "@jupyter-widgets/controls",
          "model_name": "FloatProgressModel",
          "model_module_version": "1.5.0",
          "state": {
            "_dom_classes": [],
            "_model_module": "@jupyter-widgets/controls",
            "_model_module_version": "1.5.0",
            "_model_name": "FloatProgressModel",
            "_view_count": null,
            "_view_module": "@jupyter-widgets/controls",
            "_view_module_version": "1.5.0",
            "_view_name": "ProgressView",
            "bar_style": "success",
            "description": "",
            "description_tooltip": null,
            "layout": "IPY_MODEL_4b37b87338694e28840167a7b52d5f19",
            "max": 548105171,
            "min": 0,
            "orientation": "horizontal",
            "style": "IPY_MODEL_865909eb1b7e449893ba651b20b3d822",
            "value": 548105171
          }
        },
        "6d1dfbf021d84c7da0bc89ea29e7038d": {
          "model_module": "@jupyter-widgets/controls",
          "model_name": "HTMLModel",
          "model_module_version": "1.5.0",
          "state": {
            "_dom_classes": [],
            "_model_module": "@jupyter-widgets/controls",
            "_model_module_version": "1.5.0",
            "_model_name": "HTMLModel",
            "_view_count": null,
            "_view_module": "@jupyter-widgets/controls",
            "_view_module_version": "1.5.0",
            "_view_name": "HTMLView",
            "description": "",
            "description_tooltip": null,
            "layout": "IPY_MODEL_2775ea7e16af449bbd93adbea4650cb4",
            "placeholder": "​",
            "style": "IPY_MODEL_50cc15ad5cf04c9e9c1c3615cb385e06",
            "value": " 548M/548M [00:02&lt;00:00, 273MB/s]"
          }
        },
        "101e0fd5835646df83b1ecc3267f3400": {
          "model_module": "@jupyter-widgets/base",
          "model_name": "LayoutModel",
          "model_module_version": "1.2.0",
          "state": {
            "_model_module": "@jupyter-widgets/base",
            "_model_module_version": "1.2.0",
            "_model_name": "LayoutModel",
            "_view_count": null,
            "_view_module": "@jupyter-widgets/base",
            "_view_module_version": "1.2.0",
            "_view_name": "LayoutView",
            "align_content": null,
            "align_items": null,
            "align_self": null,
            "border": null,
            "bottom": null,
            "display": null,
            "flex": null,
            "flex_flow": null,
            "grid_area": null,
            "grid_auto_columns": null,
            "grid_auto_flow": null,
            "grid_auto_rows": null,
            "grid_column": null,
            "grid_gap": null,
            "grid_row": null,
            "grid_template_areas": null,
            "grid_template_columns": null,
            "grid_template_rows": null,
            "height": null,
            "justify_content": null,
            "justify_items": null,
            "left": null,
            "margin": null,
            "max_height": null,
            "max_width": null,
            "min_height": null,
            "min_width": null,
            "object_fit": null,
            "object_position": null,
            "order": null,
            "overflow": null,
            "overflow_x": null,
            "overflow_y": null,
            "padding": null,
            "right": null,
            "top": null,
            "visibility": null,
            "width": null
          }
        },
        "16d2f3927dd04f809bcaa170dfecf432": {
          "model_module": "@jupyter-widgets/base",
          "model_name": "LayoutModel",
          "model_module_version": "1.2.0",
          "state": {
            "_model_module": "@jupyter-widgets/base",
            "_model_module_version": "1.2.0",
            "_model_name": "LayoutModel",
            "_view_count": null,
            "_view_module": "@jupyter-widgets/base",
            "_view_module_version": "1.2.0",
            "_view_name": "LayoutView",
            "align_content": null,
            "align_items": null,
            "align_self": null,
            "border": null,
            "bottom": null,
            "display": null,
            "flex": null,
            "flex_flow": null,
            "grid_area": null,
            "grid_auto_columns": null,
            "grid_auto_flow": null,
            "grid_auto_rows": null,
            "grid_column": null,
            "grid_gap": null,
            "grid_row": null,
            "grid_template_areas": null,
            "grid_template_columns": null,
            "grid_template_rows": null,
            "height": null,
            "justify_content": null,
            "justify_items": null,
            "left": null,
            "margin": null,
            "max_height": null,
            "max_width": null,
            "min_height": null,
            "min_width": null,
            "object_fit": null,
            "object_position": null,
            "order": null,
            "overflow": null,
            "overflow_x": null,
            "overflow_y": null,
            "padding": null,
            "right": null,
            "top": null,
            "visibility": null,
            "width": null
          }
        },
        "650a56bfaa4640e382c69b14dc79abfb": {
          "model_module": "@jupyter-widgets/controls",
          "model_name": "DescriptionStyleModel",
          "model_module_version": "1.5.0",
          "state": {
            "_model_module": "@jupyter-widgets/controls",
            "_model_module_version": "1.5.0",
            "_model_name": "DescriptionStyleModel",
            "_view_count": null,
            "_view_module": "@jupyter-widgets/base",
            "_view_module_version": "1.2.0",
            "_view_name": "StyleView",
            "description_width": ""
          }
        },
        "4b37b87338694e28840167a7b52d5f19": {
          "model_module": "@jupyter-widgets/base",
          "model_name": "LayoutModel",
          "model_module_version": "1.2.0",
          "state": {
            "_model_module": "@jupyter-widgets/base",
            "_model_module_version": "1.2.0",
            "_model_name": "LayoutModel",
            "_view_count": null,
            "_view_module": "@jupyter-widgets/base",
            "_view_module_version": "1.2.0",
            "_view_name": "LayoutView",
            "align_content": null,
            "align_items": null,
            "align_self": null,
            "border": null,
            "bottom": null,
            "display": null,
            "flex": null,
            "flex_flow": null,
            "grid_area": null,
            "grid_auto_columns": null,
            "grid_auto_flow": null,
            "grid_auto_rows": null,
            "grid_column": null,
            "grid_gap": null,
            "grid_row": null,
            "grid_template_areas": null,
            "grid_template_columns": null,
            "grid_template_rows": null,
            "height": null,
            "justify_content": null,
            "justify_items": null,
            "left": null,
            "margin": null,
            "max_height": null,
            "max_width": null,
            "min_height": null,
            "min_width": null,
            "object_fit": null,
            "object_position": null,
            "order": null,
            "overflow": null,
            "overflow_x": null,
            "overflow_y": null,
            "padding": null,
            "right": null,
            "top": null,
            "visibility": null,
            "width": null
          }
        },
        "865909eb1b7e449893ba651b20b3d822": {
          "model_module": "@jupyter-widgets/controls",
          "model_name": "ProgressStyleModel",
          "model_module_version": "1.5.0",
          "state": {
            "_model_module": "@jupyter-widgets/controls",
            "_model_module_version": "1.5.0",
            "_model_name": "ProgressStyleModel",
            "_view_count": null,
            "_view_module": "@jupyter-widgets/base",
            "_view_module_version": "1.2.0",
            "_view_name": "StyleView",
            "bar_color": null,
            "description_width": ""
          }
        },
        "2775ea7e16af449bbd93adbea4650cb4": {
          "model_module": "@jupyter-widgets/base",
          "model_name": "LayoutModel",
          "model_module_version": "1.2.0",
          "state": {
            "_model_module": "@jupyter-widgets/base",
            "_model_module_version": "1.2.0",
            "_model_name": "LayoutModel",
            "_view_count": null,
            "_view_module": "@jupyter-widgets/base",
            "_view_module_version": "1.2.0",
            "_view_name": "LayoutView",
            "align_content": null,
            "align_items": null,
            "align_self": null,
            "border": null,
            "bottom": null,
            "display": null,
            "flex": null,
            "flex_flow": null,
            "grid_area": null,
            "grid_auto_columns": null,
            "grid_auto_flow": null,
            "grid_auto_rows": null,
            "grid_column": null,
            "grid_gap": null,
            "grid_row": null,
            "grid_template_areas": null,
            "grid_template_columns": null,
            "grid_template_rows": null,
            "height": null,
            "justify_content": null,
            "justify_items": null,
            "left": null,
            "margin": null,
            "max_height": null,
            "max_width": null,
            "min_height": null,
            "min_width": null,
            "object_fit": null,
            "object_position": null,
            "order": null,
            "overflow": null,
            "overflow_x": null,
            "overflow_y": null,
            "padding": null,
            "right": null,
            "top": null,
            "visibility": null,
            "width": null
          }
        },
        "50cc15ad5cf04c9e9c1c3615cb385e06": {
          "model_module": "@jupyter-widgets/controls",
          "model_name": "DescriptionStyleModel",
          "model_module_version": "1.5.0",
          "state": {
            "_model_module": "@jupyter-widgets/controls",
            "_model_module_version": "1.5.0",
            "_model_name": "DescriptionStyleModel",
            "_view_count": null,
            "_view_module": "@jupyter-widgets/base",
            "_view_module_version": "1.2.0",
            "_view_name": "StyleView",
            "description_width": ""
          }
        },
        "69755b030a9a4f0098d8cf617f935792": {
          "model_module": "@jupyter-widgets/controls",
          "model_name": "HBoxModel",
          "model_module_version": "1.5.0",
          "state": {
            "_dom_classes": [],
            "_model_module": "@jupyter-widgets/controls",
            "_model_module_version": "1.5.0",
            "_model_name": "HBoxModel",
            "_view_count": null,
            "_view_module": "@jupyter-widgets/controls",
            "_view_module_version": "1.5.0",
            "_view_name": "HBoxView",
            "box_style": "",
            "children": [
              "IPY_MODEL_36029174e36d41f8a324d7adff858c50",
              "IPY_MODEL_a5eab8834a8d4b1698b12ab52afbab95",
              "IPY_MODEL_1aaaba9ce815453c820d735f33d663bb"
            ],
            "layout": "IPY_MODEL_f3a627ac99ce4ff3b3e01234613d198b"
          }
        },
        "36029174e36d41f8a324d7adff858c50": {
          "model_module": "@jupyter-widgets/controls",
          "model_name": "HTMLModel",
          "model_module_version": "1.5.0",
          "state": {
            "_dom_classes": [],
            "_model_module": "@jupyter-widgets/controls",
            "_model_module_version": "1.5.0",
            "_model_name": "HTMLModel",
            "_view_count": null,
            "_view_module": "@jupyter-widgets/controls",
            "_view_module_version": "1.5.0",
            "_view_name": "HTMLView",
            "description": "",
            "description_tooltip": null,
            "layout": "IPY_MODEL_0c9b76bf533b4ff0bf700d65d1c00e02",
            "placeholder": "​",
            "style": "IPY_MODEL_c608e505490949c9814228ec3fcd5c2a",
            "value": "generation_config.json: 100%"
          }
        },
        "a5eab8834a8d4b1698b12ab52afbab95": {
          "model_module": "@jupyter-widgets/controls",
          "model_name": "FloatProgressModel",
          "model_module_version": "1.5.0",
          "state": {
            "_dom_classes": [],
            "_model_module": "@jupyter-widgets/controls",
            "_model_module_version": "1.5.0",
            "_model_name": "FloatProgressModel",
            "_view_count": null,
            "_view_module": "@jupyter-widgets/controls",
            "_view_module_version": "1.5.0",
            "_view_name": "ProgressView",
            "bar_style": "success",
            "description": "",
            "description_tooltip": null,
            "layout": "IPY_MODEL_5f57f41454c5485690b690b88f73394e",
            "max": 124,
            "min": 0,
            "orientation": "horizontal",
            "style": "IPY_MODEL_e22f54a79f8d4446a3c8b79b0768d84b",
            "value": 124
          }
        },
        "1aaaba9ce815453c820d735f33d663bb": {
          "model_module": "@jupyter-widgets/controls",
          "model_name": "HTMLModel",
          "model_module_version": "1.5.0",
          "state": {
            "_dom_classes": [],
            "_model_module": "@jupyter-widgets/controls",
            "_model_module_version": "1.5.0",
            "_model_name": "HTMLModel",
            "_view_count": null,
            "_view_module": "@jupyter-widgets/controls",
            "_view_module_version": "1.5.0",
            "_view_name": "HTMLView",
            "description": "",
            "description_tooltip": null,
            "layout": "IPY_MODEL_a1001b22253d4daabf6f30b9aaa018d7",
            "placeholder": "​",
            "style": "IPY_MODEL_e343b7e081fe4aaaaef556231f33e1e0",
            "value": " 124/124 [00:00&lt;00:00, 7.75kB/s]"
          }
        },
        "f3a627ac99ce4ff3b3e01234613d198b": {
          "model_module": "@jupyter-widgets/base",
          "model_name": "LayoutModel",
          "model_module_version": "1.2.0",
          "state": {
            "_model_module": "@jupyter-widgets/base",
            "_model_module_version": "1.2.0",
            "_model_name": "LayoutModel",
            "_view_count": null,
            "_view_module": "@jupyter-widgets/base",
            "_view_module_version": "1.2.0",
            "_view_name": "LayoutView",
            "align_content": null,
            "align_items": null,
            "align_self": null,
            "border": null,
            "bottom": null,
            "display": null,
            "flex": null,
            "flex_flow": null,
            "grid_area": null,
            "grid_auto_columns": null,
            "grid_auto_flow": null,
            "grid_auto_rows": null,
            "grid_column": null,
            "grid_gap": null,
            "grid_row": null,
            "grid_template_areas": null,
            "grid_template_columns": null,
            "grid_template_rows": null,
            "height": null,
            "justify_content": null,
            "justify_items": null,
            "left": null,
            "margin": null,
            "max_height": null,
            "max_width": null,
            "min_height": null,
            "min_width": null,
            "object_fit": null,
            "object_position": null,
            "order": null,
            "overflow": null,
            "overflow_x": null,
            "overflow_y": null,
            "padding": null,
            "right": null,
            "top": null,
            "visibility": null,
            "width": null
          }
        },
        "0c9b76bf533b4ff0bf700d65d1c00e02": {
          "model_module": "@jupyter-widgets/base",
          "model_name": "LayoutModel",
          "model_module_version": "1.2.0",
          "state": {
            "_model_module": "@jupyter-widgets/base",
            "_model_module_version": "1.2.0",
            "_model_name": "LayoutModel",
            "_view_count": null,
            "_view_module": "@jupyter-widgets/base",
            "_view_module_version": "1.2.0",
            "_view_name": "LayoutView",
            "align_content": null,
            "align_items": null,
            "align_self": null,
            "border": null,
            "bottom": null,
            "display": null,
            "flex": null,
            "flex_flow": null,
            "grid_area": null,
            "grid_auto_columns": null,
            "grid_auto_flow": null,
            "grid_auto_rows": null,
            "grid_column": null,
            "grid_gap": null,
            "grid_row": null,
            "grid_template_areas": null,
            "grid_template_columns": null,
            "grid_template_rows": null,
            "height": null,
            "justify_content": null,
            "justify_items": null,
            "left": null,
            "margin": null,
            "max_height": null,
            "max_width": null,
            "min_height": null,
            "min_width": null,
            "object_fit": null,
            "object_position": null,
            "order": null,
            "overflow": null,
            "overflow_x": null,
            "overflow_y": null,
            "padding": null,
            "right": null,
            "top": null,
            "visibility": null,
            "width": null
          }
        },
        "c608e505490949c9814228ec3fcd5c2a": {
          "model_module": "@jupyter-widgets/controls",
          "model_name": "DescriptionStyleModel",
          "model_module_version": "1.5.0",
          "state": {
            "_model_module": "@jupyter-widgets/controls",
            "_model_module_version": "1.5.0",
            "_model_name": "DescriptionStyleModel",
            "_view_count": null,
            "_view_module": "@jupyter-widgets/base",
            "_view_module_version": "1.2.0",
            "_view_name": "StyleView",
            "description_width": ""
          }
        },
        "5f57f41454c5485690b690b88f73394e": {
          "model_module": "@jupyter-widgets/base",
          "model_name": "LayoutModel",
          "model_module_version": "1.2.0",
          "state": {
            "_model_module": "@jupyter-widgets/base",
            "_model_module_version": "1.2.0",
            "_model_name": "LayoutModel",
            "_view_count": null,
            "_view_module": "@jupyter-widgets/base",
            "_view_module_version": "1.2.0",
            "_view_name": "LayoutView",
            "align_content": null,
            "align_items": null,
            "align_self": null,
            "border": null,
            "bottom": null,
            "display": null,
            "flex": null,
            "flex_flow": null,
            "grid_area": null,
            "grid_auto_columns": null,
            "grid_auto_flow": null,
            "grid_auto_rows": null,
            "grid_column": null,
            "grid_gap": null,
            "grid_row": null,
            "grid_template_areas": null,
            "grid_template_columns": null,
            "grid_template_rows": null,
            "height": null,
            "justify_content": null,
            "justify_items": null,
            "left": null,
            "margin": null,
            "max_height": null,
            "max_width": null,
            "min_height": null,
            "min_width": null,
            "object_fit": null,
            "object_position": null,
            "order": null,
            "overflow": null,
            "overflow_x": null,
            "overflow_y": null,
            "padding": null,
            "right": null,
            "top": null,
            "visibility": null,
            "width": null
          }
        },
        "e22f54a79f8d4446a3c8b79b0768d84b": {
          "model_module": "@jupyter-widgets/controls",
          "model_name": "ProgressStyleModel",
          "model_module_version": "1.5.0",
          "state": {
            "_model_module": "@jupyter-widgets/controls",
            "_model_module_version": "1.5.0",
            "_model_name": "ProgressStyleModel",
            "_view_count": null,
            "_view_module": "@jupyter-widgets/base",
            "_view_module_version": "1.2.0",
            "_view_name": "StyleView",
            "bar_color": null,
            "description_width": ""
          }
        },
        "a1001b22253d4daabf6f30b9aaa018d7": {
          "model_module": "@jupyter-widgets/base",
          "model_name": "LayoutModel",
          "model_module_version": "1.2.0",
          "state": {
            "_model_module": "@jupyter-widgets/base",
            "_model_module_version": "1.2.0",
            "_model_name": "LayoutModel",
            "_view_count": null,
            "_view_module": "@jupyter-widgets/base",
            "_view_module_version": "1.2.0",
            "_view_name": "LayoutView",
            "align_content": null,
            "align_items": null,
            "align_self": null,
            "border": null,
            "bottom": null,
            "display": null,
            "flex": null,
            "flex_flow": null,
            "grid_area": null,
            "grid_auto_columns": null,
            "grid_auto_flow": null,
            "grid_auto_rows": null,
            "grid_column": null,
            "grid_gap": null,
            "grid_row": null,
            "grid_template_areas": null,
            "grid_template_columns": null,
            "grid_template_rows": null,
            "height": null,
            "justify_content": null,
            "justify_items": null,
            "left": null,
            "margin": null,
            "max_height": null,
            "max_width": null,
            "min_height": null,
            "min_width": null,
            "object_fit": null,
            "object_position": null,
            "order": null,
            "overflow": null,
            "overflow_x": null,
            "overflow_y": null,
            "padding": null,
            "right": null,
            "top": null,
            "visibility": null,
            "width": null
          }
        },
        "e343b7e081fe4aaaaef556231f33e1e0": {
          "model_module": "@jupyter-widgets/controls",
          "model_name": "DescriptionStyleModel",
          "model_module_version": "1.5.0",
          "state": {
            "_model_module": "@jupyter-widgets/controls",
            "_model_module_version": "1.5.0",
            "_model_name": "DescriptionStyleModel",
            "_view_count": null,
            "_view_module": "@jupyter-widgets/base",
            "_view_module_version": "1.2.0",
            "_view_name": "StyleView",
            "description_width": ""
          }
        }
      }
    }
  },
  "nbformat": 4,
  "nbformat_minor": 0
}